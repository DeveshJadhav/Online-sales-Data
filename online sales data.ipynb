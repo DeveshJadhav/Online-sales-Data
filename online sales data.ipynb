{
 "cells": [
  {
   "cell_type": "code",
   "execution_count": 1,
   "id": "4883918b-0fdc-4924-841a-7be6b9e790f7",
   "metadata": {},
   "outputs": [],
   "source": [
    "import pandas as pd\n",
    "import matplotlib.pyplot as plt\n",
    "import numpy as np\n",
    "import seaborn as sns"
   ]
  },
  {
   "cell_type": "code",
   "execution_count": 2,
   "id": "68f19efd-3820-428f-a474-bb585a75abee",
   "metadata": {},
   "outputs": [],
   "source": [
    "#plt.style.use('seaborn-v0_8-colorblind')"
   ]
  },
  {
   "cell_type": "code",
   "execution_count": 3,
   "id": "f8ada9e9-f163-45c1-b0f8-5257c82570e5",
   "metadata": {},
   "outputs": [],
   "source": [
    "df = pd.read_csv(r'W:\\Sample Datasets\\online sales data\\Online Sales Data.csv')"
   ]
  },
  {
   "cell_type": "code",
   "execution_count": 4,
   "id": "b46874e1-eff8-43c3-b661-1eddf20d84e9",
   "metadata": {},
   "outputs": [
    {
     "name": "stdout",
     "output_type": "stream",
     "text": [
      "<class 'pandas.core.frame.DataFrame'>\n",
      "RangeIndex: 240 entries, 0 to 239\n",
      "Data columns (total 9 columns):\n",
      " #   Column            Non-Null Count  Dtype  \n",
      "---  ------            --------------  -----  \n",
      " 0   Transaction ID    240 non-null    int64  \n",
      " 1   Date              240 non-null    object \n",
      " 2   Product Category  240 non-null    object \n",
      " 3   Product Name      240 non-null    object \n",
      " 4   Units Sold        240 non-null    int64  \n",
      " 5   Unit Price        240 non-null    float64\n",
      " 6   Total Revenue     240 non-null    float64\n",
      " 7   Region            240 non-null    object \n",
      " 8   Payment Method    240 non-null    object \n",
      "dtypes: float64(2), int64(2), object(5)\n",
      "memory usage: 17.0+ KB\n"
     ]
    }
   ],
   "source": [
    "df.info()"
   ]
  },
  {
   "cell_type": "code",
   "execution_count": 5,
   "id": "3a14562e-8364-479c-ba11-fe433bf10af7",
   "metadata": {},
   "outputs": [
    {
     "data": {
      "text/plain": [
       "Transaction ID      0\n",
       "Date                0\n",
       "Product Category    0\n",
       "Product Name        0\n",
       "Units Sold          0\n",
       "Unit Price          0\n",
       "Total Revenue       0\n",
       "Region              0\n",
       "Payment Method      0\n",
       "dtype: int64"
      ]
     },
     "execution_count": 5,
     "metadata": {},
     "output_type": "execute_result"
    }
   ],
   "source": [
    "df.isnull().sum()"
   ]
  },
  {
   "cell_type": "code",
   "execution_count": 6,
   "id": "6351d1f7-5876-4bb7-8f9e-0a21d37a522c",
   "metadata": {},
   "outputs": [
    {
     "data": {
      "text/plain": [
       "0"
      ]
     },
     "execution_count": 6,
     "metadata": {},
     "output_type": "execute_result"
    }
   ],
   "source": [
    "df.duplicated().sum()"
   ]
  },
  {
   "cell_type": "code",
   "execution_count": 7,
   "id": "9fb3e2b0-9651-4df9-9282-da166839dfa5",
   "metadata": {},
   "outputs": [
    {
     "data": {
      "text/html": [
       "<div>\n",
       "<style scoped>\n",
       "    .dataframe tbody tr th:only-of-type {\n",
       "        vertical-align: middle;\n",
       "    }\n",
       "\n",
       "    .dataframe tbody tr th {\n",
       "        vertical-align: top;\n",
       "    }\n",
       "\n",
       "    .dataframe thead th {\n",
       "        text-align: right;\n",
       "    }\n",
       "</style>\n",
       "<table border=\"1\" class=\"dataframe\">\n",
       "  <thead>\n",
       "    <tr style=\"text-align: right;\">\n",
       "      <th></th>\n",
       "      <th>Transaction ID</th>\n",
       "      <th>Date</th>\n",
       "      <th>Product Category</th>\n",
       "      <th>Product Name</th>\n",
       "      <th>Units Sold</th>\n",
       "      <th>Unit Price</th>\n",
       "      <th>Total Revenue</th>\n",
       "      <th>Region</th>\n",
       "      <th>Payment Method</th>\n",
       "    </tr>\n",
       "  </thead>\n",
       "  <tbody>\n",
       "    <tr>\n",
       "      <th>0</th>\n",
       "      <td>10001</td>\n",
       "      <td>2024-01-01</td>\n",
       "      <td>Electronics</td>\n",
       "      <td>iPhone 14 Pro</td>\n",
       "      <td>2</td>\n",
       "      <td>999.99</td>\n",
       "      <td>1999.98</td>\n",
       "      <td>North America</td>\n",
       "      <td>Credit Card</td>\n",
       "    </tr>\n",
       "    <tr>\n",
       "      <th>1</th>\n",
       "      <td>10002</td>\n",
       "      <td>2024-01-02</td>\n",
       "      <td>Home Appliances</td>\n",
       "      <td>Dyson V11 Vacuum</td>\n",
       "      <td>1</td>\n",
       "      <td>499.99</td>\n",
       "      <td>499.99</td>\n",
       "      <td>Europe</td>\n",
       "      <td>PayPal</td>\n",
       "    </tr>\n",
       "    <tr>\n",
       "      <th>2</th>\n",
       "      <td>10003</td>\n",
       "      <td>2024-01-03</td>\n",
       "      <td>Clothing</td>\n",
       "      <td>Levi's 501 Jeans</td>\n",
       "      <td>3</td>\n",
       "      <td>69.99</td>\n",
       "      <td>209.97</td>\n",
       "      <td>Asia</td>\n",
       "      <td>Debit Card</td>\n",
       "    </tr>\n",
       "    <tr>\n",
       "      <th>3</th>\n",
       "      <td>10004</td>\n",
       "      <td>2024-01-04</td>\n",
       "      <td>Books</td>\n",
       "      <td>The Da Vinci Code</td>\n",
       "      <td>4</td>\n",
       "      <td>15.99</td>\n",
       "      <td>63.96</td>\n",
       "      <td>North America</td>\n",
       "      <td>Credit Card</td>\n",
       "    </tr>\n",
       "    <tr>\n",
       "      <th>4</th>\n",
       "      <td>10005</td>\n",
       "      <td>2024-01-05</td>\n",
       "      <td>Beauty Products</td>\n",
       "      <td>Neutrogena Skincare Set</td>\n",
       "      <td>1</td>\n",
       "      <td>89.99</td>\n",
       "      <td>89.99</td>\n",
       "      <td>Europe</td>\n",
       "      <td>PayPal</td>\n",
       "    </tr>\n",
       "  </tbody>\n",
       "</table>\n",
       "</div>"
      ],
      "text/plain": [
       "   Transaction ID        Date Product Category             Product Name  \\\n",
       "0           10001  2024-01-01      Electronics            iPhone 14 Pro   \n",
       "1           10002  2024-01-02  Home Appliances         Dyson V11 Vacuum   \n",
       "2           10003  2024-01-03         Clothing         Levi's 501 Jeans   \n",
       "3           10004  2024-01-04            Books        The Da Vinci Code   \n",
       "4           10005  2024-01-05  Beauty Products  Neutrogena Skincare Set   \n",
       "\n",
       "   Units Sold  Unit Price  Total Revenue         Region Payment Method  \n",
       "0           2      999.99        1999.98  North America    Credit Card  \n",
       "1           1      499.99         499.99         Europe         PayPal  \n",
       "2           3       69.99         209.97           Asia     Debit Card  \n",
       "3           4       15.99          63.96  North America    Credit Card  \n",
       "4           1       89.99          89.99         Europe         PayPal  "
      ]
     },
     "execution_count": 7,
     "metadata": {},
     "output_type": "execute_result"
    }
   ],
   "source": [
    "df.head()"
   ]
  },
  {
   "cell_type": "code",
   "execution_count": 8,
   "id": "e3693e61-2a66-4ae5-979e-13cb6487bdd2",
   "metadata": {},
   "outputs": [],
   "source": [
    "df['Date'] = pd.to_datetime(df['Date'])"
   ]
  },
  {
   "cell_type": "code",
   "execution_count": 9,
   "id": "fb0a4915-82a1-4df6-b02b-27acc133d4b4",
   "metadata": {},
   "outputs": [
    {
     "name": "stdout",
     "output_type": "stream",
     "text": [
      "<class 'pandas.core.frame.DataFrame'>\n",
      "RangeIndex: 240 entries, 0 to 239\n",
      "Data columns (total 9 columns):\n",
      " #   Column            Non-Null Count  Dtype         \n",
      "---  ------            --------------  -----         \n",
      " 0   Transaction ID    240 non-null    int64         \n",
      " 1   Date              240 non-null    datetime64[ns]\n",
      " 2   Product Category  240 non-null    object        \n",
      " 3   Product Name      240 non-null    object        \n",
      " 4   Units Sold        240 non-null    int64         \n",
      " 5   Unit Price        240 non-null    float64       \n",
      " 6   Total Revenue     240 non-null    float64       \n",
      " 7   Region            240 non-null    object        \n",
      " 8   Payment Method    240 non-null    object        \n",
      "dtypes: datetime64[ns](1), float64(2), int64(2), object(4)\n",
      "memory usage: 17.0+ KB\n"
     ]
    }
   ],
   "source": [
    "df.info()"
   ]
  },
  {
   "cell_type": "code",
   "execution_count": 10,
   "id": "cca98369-680e-4900-9c0b-ae8c14e28643",
   "metadata": {},
   "outputs": [],
   "source": [
    "df['Month'] = df['Date'].dt.month\n",
    "df['Month'] = df['Month'].replace({ 1: 'January',\n",
    "                                    2: 'February',\n",
    "                                    3: 'March',\n",
    "                                    4: 'April',\n",
    "                                    5: 'May',\n",
    "                                    6: 'June',\n",
    "                                    7: 'July',\n",
    "                                    8: 'August',\n",
    "                                    9: 'September',\n",
    "                                    10: 'October',\n",
    "                                    11: 'November',\n",
    "                                    12: 'December'\n",
    "                                    })"
   ]
  },
  {
   "cell_type": "code",
   "execution_count": 11,
   "id": "a8fb3264-d64c-4e7b-b70d-0c246d8ab184",
   "metadata": {},
   "outputs": [
    {
     "data": {
      "text/plain": [
       "Index(['Transaction ID', 'Date', 'Product Category', 'Product Name',\n",
       "       'Units Sold', 'Unit Price', 'Total Revenue', 'Region', 'Payment Method',\n",
       "       'Month'],\n",
       "      dtype='object')"
      ]
     },
     "execution_count": 11,
     "metadata": {},
     "output_type": "execute_result"
    }
   ],
   "source": [
    "df.columns"
   ]
  },
  {
   "cell_type": "code",
   "execution_count": 12,
   "id": "c0649d6c-a252-4968-9cf3-aefa40f35c75",
   "metadata": {},
   "outputs": [
    {
     "data": {
      "text/plain": [
       "array(['Electronics', 'Home Appliances', 'Clothing', 'Books',\n",
       "       'Beauty Products', 'Sports'], dtype=object)"
      ]
     },
     "execution_count": 12,
     "metadata": {},
     "output_type": "execute_result"
    }
   ],
   "source": [
    "df['Product Category'].unique()"
   ]
  },
  {
   "cell_type": "code",
   "execution_count": 13,
   "id": "04c8db12-2023-4d76-94fc-230bd84005d0",
   "metadata": {},
   "outputs": [
    {
     "data": {
      "text/plain": [
       "Product Category\n",
       "Electronics        40\n",
       "Home Appliances    40\n",
       "Clothing           40\n",
       "Books              40\n",
       "Beauty Products    40\n",
       "Sports             40\n",
       "Name: count, dtype: int64"
      ]
     },
     "execution_count": 13,
     "metadata": {},
     "output_type": "execute_result"
    }
   ],
   "source": [
    "df['Product Category'].value_counts()"
   ]
  },
  {
   "cell_type": "code",
   "execution_count": 14,
   "id": "dc7c11e4-9dea-4984-9ff2-c9bffc8a5c64",
   "metadata": {},
   "outputs": [
    {
     "data": {
      "text/plain": [
       "array(['North America', 'Europe', 'Asia'], dtype=object)"
      ]
     },
     "execution_count": 14,
     "metadata": {},
     "output_type": "execute_result"
    }
   ],
   "source": [
    "df['Region'].unique()"
   ]
  },
  {
   "cell_type": "code",
   "execution_count": 15,
   "id": "26e582e5-7579-478c-a0fb-2c884925dd69",
   "metadata": {},
   "outputs": [
    {
     "data": {
      "text/plain": [
       "Region\n",
       "North America    80\n",
       "Europe           80\n",
       "Asia             80\n",
       "Name: count, dtype: int64"
      ]
     },
     "execution_count": 15,
     "metadata": {},
     "output_type": "execute_result"
    }
   ],
   "source": [
    "df['Region'].value_counts()"
   ]
  },
  {
   "cell_type": "code",
   "execution_count": 16,
   "id": "a1178bfe-8ef3-4b8b-948c-57146db0db8d",
   "metadata": {},
   "outputs": [
    {
     "data": {
      "text/plain": [
       "array(['Credit Card', 'PayPal', 'Debit Card'], dtype=object)"
      ]
     },
     "execution_count": 16,
     "metadata": {},
     "output_type": "execute_result"
    }
   ],
   "source": [
    "df['Payment Method'].unique()"
   ]
  },
  {
   "cell_type": "code",
   "execution_count": 17,
   "id": "b48d95b3-8f4a-40ef-a5c1-cb78a257ddbd",
   "metadata": {},
   "outputs": [
    {
     "data": {
      "text/plain": [
       "Payment Method\n",
       "Credit Card    120\n",
       "PayPal          80\n",
       "Debit Card      40\n",
       "Name: count, dtype: int64"
      ]
     },
     "execution_count": 17,
     "metadata": {},
     "output_type": "execute_result"
    }
   ],
   "source": [
    "df['Payment Method'].value_counts()"
   ]
  },
  {
   "cell_type": "code",
   "execution_count": 18,
   "id": "ac90a3f8-1e09-4a6c-9f99-5f1e164fd6a7",
   "metadata": {},
   "outputs": [
    {
     "data": {
      "text/plain": [
       "array(['January', 'February', 'March', 'April', 'May', 'June', 'July',\n",
       "       'August'], dtype=object)"
      ]
     },
     "execution_count": 18,
     "metadata": {},
     "output_type": "execute_result"
    }
   ],
   "source": [
    "df['Month'].unique()"
   ]
  },
  {
   "cell_type": "code",
   "execution_count": 19,
   "id": "9a29eb01-e672-4051-ab81-e2dcbfc6fd3a",
   "metadata": {},
   "outputs": [
    {
     "data": {
      "text/plain": [
       "Month\n",
       "January     31\n",
       "March       31\n",
       "May         31\n",
       "July        31\n",
       "April       30\n",
       "June        30\n",
       "February    29\n",
       "August      27\n",
       "Name: count, dtype: int64"
      ]
     },
     "execution_count": 19,
     "metadata": {},
     "output_type": "execute_result"
    }
   ],
   "source": [
    "df['Month'].value_counts()"
   ]
  },
  {
   "cell_type": "code",
   "execution_count": 20,
   "id": "3eb8b15e-4c87-4525-8468-88a8cb85270c",
   "metadata": {},
   "outputs": [
    {
     "data": {
      "text/html": [
       "<div>\n",
       "<style scoped>\n",
       "    .dataframe tbody tr th:only-of-type {\n",
       "        vertical-align: middle;\n",
       "    }\n",
       "\n",
       "    .dataframe tbody tr th {\n",
       "        vertical-align: top;\n",
       "    }\n",
       "\n",
       "    .dataframe thead th {\n",
       "        text-align: right;\n",
       "    }\n",
       "</style>\n",
       "<table border=\"1\" class=\"dataframe\">\n",
       "  <thead>\n",
       "    <tr style=\"text-align: right;\">\n",
       "      <th></th>\n",
       "      <th>Date</th>\n",
       "      <th>Total Revenue</th>\n",
       "    </tr>\n",
       "  </thead>\n",
       "  <tbody>\n",
       "    <tr>\n",
       "      <th>0</th>\n",
       "      <td>2024-01-01</td>\n",
       "      <td>1999.98</td>\n",
       "    </tr>\n",
       "    <tr>\n",
       "      <th>1</th>\n",
       "      <td>2024-01-02</td>\n",
       "      <td>499.99</td>\n",
       "    </tr>\n",
       "    <tr>\n",
       "      <th>2</th>\n",
       "      <td>2024-01-03</td>\n",
       "      <td>209.97</td>\n",
       "    </tr>\n",
       "    <tr>\n",
       "      <th>3</th>\n",
       "      <td>2024-01-04</td>\n",
       "      <td>63.96</td>\n",
       "    </tr>\n",
       "    <tr>\n",
       "      <th>4</th>\n",
       "      <td>2024-01-05</td>\n",
       "      <td>89.99</td>\n",
       "    </tr>\n",
       "    <tr>\n",
       "      <th>...</th>\n",
       "      <td>...</td>\n",
       "      <td>...</td>\n",
       "    </tr>\n",
       "    <tr>\n",
       "      <th>235</th>\n",
       "      <td>2024-08-23</td>\n",
       "      <td>159.99</td>\n",
       "    </tr>\n",
       "    <tr>\n",
       "      <th>236</th>\n",
       "      <td>2024-08-24</td>\n",
       "      <td>270.00</td>\n",
       "    </tr>\n",
       "    <tr>\n",
       "      <th>237</th>\n",
       "      <td>2024-08-25</td>\n",
       "      <td>32.97</td>\n",
       "    </tr>\n",
       "    <tr>\n",
       "      <th>238</th>\n",
       "      <td>2024-08-26</td>\n",
       "      <td>55.00</td>\n",
       "    </tr>\n",
       "    <tr>\n",
       "      <th>239</th>\n",
       "      <td>2024-08-27</td>\n",
       "      <td>59.98</td>\n",
       "    </tr>\n",
       "  </tbody>\n",
       "</table>\n",
       "<p>240 rows × 2 columns</p>\n",
       "</div>"
      ],
      "text/plain": [
       "          Date  Total Revenue\n",
       "0   2024-01-01        1999.98\n",
       "1   2024-01-02         499.99\n",
       "2   2024-01-03         209.97\n",
       "3   2024-01-04          63.96\n",
       "4   2024-01-05          89.99\n",
       "..         ...            ...\n",
       "235 2024-08-23         159.99\n",
       "236 2024-08-24         270.00\n",
       "237 2024-08-25          32.97\n",
       "238 2024-08-26          55.00\n",
       "239 2024-08-27          59.98\n",
       "\n",
       "[240 rows x 2 columns]"
      ]
     },
     "execution_count": 20,
     "metadata": {},
     "output_type": "execute_result"
    }
   ],
   "source": [
    "Sales_Trend = df.groupby('Date')['Total Revenue'].sum().reset_index()\n",
    "Sales_Trend"
   ]
  },
  {
   "cell_type": "code",
   "execution_count": 21,
   "id": "0f6ee53e-06b4-4e44-8ecf-a6194461c2e3",
   "metadata": {},
   "outputs": [
    {
     "data": {
      "text/plain": [
       "Text(0.5, 1.0, 'Revenue Over Time')"
      ]
     },
     "execution_count": 21,
     "metadata": {},
     "output_type": "execute_result"
    },
    {
     "data": {
      "image/png": "[encoded data removed]",
      "text/plain": [
       "<Figure size 1300x800 with 1 Axes>"
      ]
     },
     "metadata": {},
     "output_type": "display_data"
    }
   ],
   "source": [
    "sns.set(style=\"whitegrid\")\n",
    "plt.figure(figsize=(13,8))\n",
    "sns.lineplot(data=Sales_Trend, x='Date', y='Total Revenue',marker='o')\n",
    "plt.title('Revenue Over Time')\n",
    "#plt.xlabel('Sales')"
   ]
  },
  {
   "cell_type": "code",
   "execution_count": 22,
   "id": "d1198cec-a79e-4ee6-8268-3ccb05a8753a",
   "metadata": {},
   "outputs": [
    {
     "data": {
      "text/html": [
       "<div>\n",
       "<style scoped>\n",
       "    .dataframe tbody tr th:only-of-type {\n",
       "        vertical-align: middle;\n",
       "    }\n",
       "\n",
       "    .dataframe tbody tr th {\n",
       "        vertical-align: top;\n",
       "    }\n",
       "\n",
       "    .dataframe thead th {\n",
       "        text-align: right;\n",
       "    }\n",
       "</style>\n",
       "<table border=\"1\" class=\"dataframe\">\n",
       "  <thead>\n",
       "    <tr style=\"text-align: right;\">\n",
       "      <th></th>\n",
       "      <th>Month</th>\n",
       "      <th>Total Revenue</th>\n",
       "    </tr>\n",
       "  </thead>\n",
       "  <tbody>\n",
       "    <tr>\n",
       "      <th>0</th>\n",
       "      <td>April</td>\n",
       "      <td>12451.69</td>\n",
       "    </tr>\n",
       "    <tr>\n",
       "      <th>1</th>\n",
       "      <td>August</td>\n",
       "      <td>7278.11</td>\n",
       "    </tr>\n",
       "    <tr>\n",
       "      <th>2</th>\n",
       "      <td>February</td>\n",
       "      <td>10803.37</td>\n",
       "    </tr>\n",
       "    <tr>\n",
       "      <th>3</th>\n",
       "      <td>January</td>\n",
       "      <td>14548.32</td>\n",
       "    </tr>\n",
       "    <tr>\n",
       "      <th>4</th>\n",
       "      <td>July</td>\n",
       "      <td>6797.08</td>\n",
       "    </tr>\n",
       "    <tr>\n",
       "      <th>5</th>\n",
       "      <td>June</td>\n",
       "      <td>7384.55</td>\n",
       "    </tr>\n",
       "    <tr>\n",
       "      <th>6</th>\n",
       "      <td>March</td>\n",
       "      <td>12849.24</td>\n",
       "    </tr>\n",
       "    <tr>\n",
       "      <th>7</th>\n",
       "      <td>May</td>\n",
       "      <td>8455.49</td>\n",
       "    </tr>\n",
       "  </tbody>\n",
       "</table>\n",
       "</div>"
      ],
      "text/plain": [
       "      Month  Total Revenue\n",
       "0     April       12451.69\n",
       "1    August        7278.11\n",
       "2  February       10803.37\n",
       "3   January       14548.32\n",
       "4      July        6797.08\n",
       "5      June        7384.55\n",
       "6     March       12849.24\n",
       "7       May        8455.49"
      ]
     },
     "execution_count": 22,
     "metadata": {},
     "output_type": "execute_result"
    }
   ],
   "source": [
    "sales_monthly = df.groupby('Month')['Total Revenue'].sum().reset_index()\n",
    "sales_monthly"
   ]
  },
  {
   "cell_type": "code",
   "execution_count": 30,
   "id": "ef282896-82d6-44b1-9d4c-56bae17b1436",
   "metadata": {},
   "outputs": [
    {
     "data": {
      "text/plain": [
       "Text(0.5, 1.0, 'Sales Over Month')"
      ]
     },
     "execution_count": 30,
     "metadata": {},
     "output_type": "execute_result"
    },
    {
     "data": {
      "image/png": "[encoded data removed]",
      "text/plain": [
       "<Figure size 800x800 with 1 Axes>"
      ]
     },
     "metadata": {},
     "output_type": "display_data"
    }
   ],
   "source": [
    "sns.set(style=\"whitegrid\")\n",
    "plt.figure(figsize=(8,8))\n",
    "sns.lineplot(data=sales_monthly, x='Month', y='Total Revenue',marker='o', color = 'red')\n",
    "plt.title('Sales Over Month')"
   ]
  },
  {
   "cell_type": "code",
   "execution_count": 24,
   "id": "b076b62d-a98d-41b8-a395-58f22f898582",
   "metadata": {},
   "outputs": [
    {
     "data": {
      "text/html": [
       "<div>\n",
       "<style scoped>\n",
       "    .dataframe tbody tr th:only-of-type {\n",
       "        vertical-align: middle;\n",
       "    }\n",
       "\n",
       "    .dataframe tbody tr th {\n",
       "        vertical-align: top;\n",
       "    }\n",
       "\n",
       "    .dataframe thead th {\n",
       "        text-align: right;\n",
       "    }\n",
       "</style>\n",
       "<table border=\"1\" class=\"dataframe\">\n",
       "  <thead>\n",
       "    <tr style=\"text-align: right;\">\n",
       "      <th></th>\n",
       "      <th>Product Category</th>\n",
       "      <th>Total Revenue</th>\n",
       "    </tr>\n",
       "  </thead>\n",
       "  <tbody>\n",
       "    <tr>\n",
       "      <th>0</th>\n",
       "      <td>Beauty Products</td>\n",
       "      <td>2621.90</td>\n",
       "    </tr>\n",
       "    <tr>\n",
       "      <th>1</th>\n",
       "      <td>Books</td>\n",
       "      <td>1861.93</td>\n",
       "    </tr>\n",
       "    <tr>\n",
       "      <th>2</th>\n",
       "      <td>Clothing</td>\n",
       "      <td>8128.93</td>\n",
       "    </tr>\n",
       "    <tr>\n",
       "      <th>3</th>\n",
       "      <td>Electronics</td>\n",
       "      <td>34982.41</td>\n",
       "    </tr>\n",
       "    <tr>\n",
       "      <th>4</th>\n",
       "      <td>Home Appliances</td>\n",
       "      <td>18646.16</td>\n",
       "    </tr>\n",
       "    <tr>\n",
       "      <th>5</th>\n",
       "      <td>Sports</td>\n",
       "      <td>14326.52</td>\n",
       "    </tr>\n",
       "  </tbody>\n",
       "</table>\n",
       "</div>"
      ],
      "text/plain": [
       "  Product Category  Total Revenue\n",
       "0  Beauty Products        2621.90\n",
       "1            Books        1861.93\n",
       "2         Clothing        8128.93\n",
       "3      Electronics       34982.41\n",
       "4  Home Appliances       18646.16\n",
       "5           Sports       14326.52"
      ]
     },
     "execution_count": 24,
     "metadata": {},
     "output_type": "execute_result"
    }
   ],
   "source": [
    "Product_Category_trend = df.groupby('Product Category')['Total Revenue'].sum().reset_index()\n",
    "Product_Category_trend"
   ]
  },
  {
   "cell_type": "code",
   "execution_count": 25,
   "id": "faa10b01-c526-4fc1-869e-288e75407d84",
   "metadata": {},
   "outputs": [
    {
     "data": {
      "text/plain": [
       "<Axes: xlabel='Product Category', ylabel='Total Revenue'>"
      ]
     },
     "execution_count": 25,
     "metadata": {},
     "output_type": "execute_result"
    },
    {
     "data": {
      "image/png": "[encoded data removed]",
      "text/plain": [
       "<Figure size 1000x600 with 1 Axes>"
      ]
     },
     "metadata": {},
     "output_type": "display_data"
    }
   ],
   "source": [
    "plt.figure(figsize=(10, 6))\n",
    "sns.lineplot(data=Product_Category_trend, x='Product Category', y='Total Revenue', label='Product Sold by Units')"
   ]
  },
  {
   "cell_type": "code",
   "execution_count": 26,
   "id": "29235462-b79d-448c-8742-cc41d6a2483d",
   "metadata": {},
   "outputs": [
    {
     "data": {
      "text/plain": [
       "([0, 1, 2, 3, 4, 5],\n",
       " [Text(0, 0, 'Electronics'),\n",
       "  Text(1, 0, 'Home Appliances'),\n",
       "  Text(2, 0, 'Clothing'),\n",
       "  Text(3, 0, 'Books'),\n",
       "  Text(4, 0, 'Beauty Products'),\n",
       "  Text(5, 0, 'Sports')])"
      ]
     },
     "execution_count": 26,
     "metadata": {},
     "output_type": "execute_result"
    },
    {
     "data": {
      "image/png": "[encoded data removed]",
      "text/plain": [
       "<Figure size 1000x600 with 1 Axes>"
      ]
     },
     "metadata": {},
     "output_type": "display_data"
    }
   ],
   "source": [
    "plt.figure(figsize=(10, 6))\n",
    "\n",
    "sns.barplot(data=df, x=df['Product Category'],y=df['Total Revenue'],hue=df['Region'])\n",
    "plt.title('Product Popularity Over Region')\n",
    "plt.xlabel='Product Categories'\n",
    "plt.ylabel='Units Sold'\n",
    "plt.xticks(rotation=45)"
   ]
  },
  {
   "cell_type": "code",
   "execution_count": 27,
   "id": "911868a8-c7f8-468a-b516-278a92a627dc",
   "metadata": {},
   "outputs": [
    {
     "data": {
      "text/html": [
       "<div>\n",
       "<style scoped>\n",
       "    .dataframe tbody tr th:only-of-type {\n",
       "        vertical-align: middle;\n",
       "    }\n",
       "\n",
       "    .dataframe tbody tr th {\n",
       "        vertical-align: top;\n",
       "    }\n",
       "\n",
       "    .dataframe thead th {\n",
       "        text-align: right;\n",
       "    }\n",
       "</style>\n",
       "<table border=\"1\" class=\"dataframe\">\n",
       "  <thead>\n",
       "    <tr style=\"text-align: right;\">\n",
       "      <th></th>\n",
       "      <th>Region</th>\n",
       "      <th>Total Revenue</th>\n",
       "    </tr>\n",
       "  </thead>\n",
       "  <tbody>\n",
       "    <tr>\n",
       "      <th>0</th>\n",
       "      <td>Asia</td>\n",
       "      <td>22455.45</td>\n",
       "    </tr>\n",
       "    <tr>\n",
       "      <th>1</th>\n",
       "      <td>Europe</td>\n",
       "      <td>21268.06</td>\n",
       "    </tr>\n",
       "    <tr>\n",
       "      <th>2</th>\n",
       "      <td>North America</td>\n",
       "      <td>36844.34</td>\n",
       "    </tr>\n",
       "  </tbody>\n",
       "</table>\n",
       "</div>"
      ],
      "text/plain": [
       "          Region  Total Revenue\n",
       "0           Asia       22455.45\n",
       "1         Europe       21268.06\n",
       "2  North America       36844.34"
      ]
     },
     "execution_count": 27,
     "metadata": {},
     "output_type": "execute_result"
    }
   ],
   "source": [
    "region_sales = df.groupby('Region')['Total Revenue'].sum().reset_index()\n",
    "region_sales"
   ]
  },
  {
   "cell_type": "code",
   "execution_count": 226,
   "id": "de165085-21dd-4bf9-85ce-4230dc24e3c2",
   "metadata": {},
   "outputs": [
    {
     "data": {
      "text/plain": [
       "Text(0.5, 1.0, 'Region Having Most Sales')"
      ]
     },
     "execution_count": 226,
     "metadata": {},
     "output_type": "execute_result"
    },
    {
     "data": {
      "image/png": "[encoded data removed]",
      "text/plain": [
       "<Figure size 640x480 with 1 Axes>"
      ]
     },
     "metadata": {},
     "output_type": "display_data"
    }
   ],
   "source": [
    "#sns.set_style(style='white')\n",
    "labels = ['Asia', 'Europe', 'North America']\n",
    "plt.pie(data=region_sales, x='Total Revenue', labels = labels, autopct='%1.1f%%',startangle=90, colors=['green', 'orange', 'blue'],\n",
    "        wedgeprops={'edgecolor': 'black'})\n",
    "plt.title('Region Having Most Sales')"
   ]
  },
  {
   "cell_type": "code",
   "execution_count": null,
   "id": "de90b854-6f86-4004-ab30-6b5af40fbed8",
   "metadata": {},
   "outputs": [],
   "source": [
    "palettes = ['deep', 'muted', 'pastel', 'bright', 'dark', 'colorblind']"
   ]
  },
  {
   "cell_type": "code",
   "execution_count": 39,
   "id": "7eede2e0-47cb-4b51-8f91-7cd5a4aad698",
   "metadata": {},
   "outputs": [
    {
     "data": {
      "text/plain": [
       "<Axes: xlabel='Payment Method', ylabel='Total Revenue'>"
      ]
     },
     "execution_count": 39,
     "metadata": {},
     "output_type": "execute_result"
    },
    {
     "data": {
      "image/png": "[encoded data removed]",
      "text/plain": [
       "<Figure size 1000x600 with 1 Axes>"
      ]
     },
     "metadata": {},
     "output_type": "display_data"
    }
   ],
   "source": [
    "#color = {'Credit Card':'g', 'PayPal':'b', 'Debit Card':'o'}\n",
    "plt.figure(figsize=(10,6))\n",
    "sns.barplot(data=df, x='Payment Method', y='Total Revenue', color = 'g',  hue = 'Payment Method', palette = 'muted')"
   ]
  },
  {
   "cell_type": "code",
   "execution_count": 193,
   "id": "1dc15a43-c034-4134-aa99-ac09b1eabaed",
   "metadata": {},
   "outputs": [
    {
     "data": {
      "text/plain": [
       "Text(0.5, 1.0, 'Payment Method by Product Category')"
      ]
     },
     "execution_count": 193,
     "metadata": {},
     "output_type": "execute_result"
    },
    {
     "data": {
      "image/png": "[encoded data removed]",
      "text/plain": [
       "<Figure size 1000x600 with 1 Axes>"
      ]
     },
     "metadata": {},
     "output_type": "display_data"
    }
   ],
   "source": [
    "plt.figure(figsize=(10,6))\n",
    "sns.barplot(data=df, x='Product Category', y='Total Revenue', hue='Payment Method', palette = 'muted')\n",
    "#plt.ylabel('Sales')\n",
    "plt.title('Payment Method by Product Category')"
   ]
  },
  {
   "cell_type": "code",
   "execution_count": 197,
   "id": "ec31f731-08c3-4f10-bb3b-d4c2b1bcffee",
   "metadata": {},
   "outputs": [
    {
     "data": {
      "text/plain": [
       "Text(0.5, 1.0, 'Units Sold by Category')"
      ]
     },
     "execution_count": 197,
     "metadata": {},
     "output_type": "execute_result"
    },
    {
     "data": {
      "image/png": "[encoded data removed]",
      "text/plain": [
       "<Figure size 1200x600 with 1 Axes>"
      ]
     },
     "metadata": {},
     "output_type": "display_data"
    }
   ],
   "source": [
    "plt.figure(figsize=(12,6))\n",
    "sns.barplot(x='Product Category',y='Units Sold',data=df, hue='Units Sold')\n",
    "plt.title('Units Sold by Category')"
   ]
  },
  {
   "cell_type": "code",
   "execution_count": null,
   "id": "8329e561-1a78-4043-9a7d-0ec48f8c091e",
   "metadata": {},
   "outputs": [],
   "source": [
    "# top-selling products within each category to optimize inventory and marketing strategies."
   ]
  },
  {
   "cell_type": "code",
   "execution_count": 212,
   "id": "c196df22-b88a-4a2c-b169-a78cb621f47a",
   "metadata": {},
   "outputs": [
    {
     "data": {
      "text/plain": [
       "Text(0.5, 1.0, 'Revenue Made by Region')"
      ]
     },
     "execution_count": 212,
     "metadata": {},
     "output_type": "execute_result"
    },
    {
     "data": {
      "image/png": "[encoded data removed]",
      "text/plain": [
       "<Figure size 1000x600 with 1 Axes>"
      ]
     },
     "metadata": {},
     "output_type": "display_data"
    }
   ],
   "source": [
    "plt.figure(figsize=(10,6))\n",
    "sns.barplot(data=df, x= 'Region', y = 'Total Revenue', hue ='Region' )\n",
    "plt.title('Revenue Made by Region')\n"
   ]
  },
  {
   "cell_type": "code",
   "execution_count": null,
   "id": "6d1413ef-7408-4554-80a3-35bdca1611eb",
   "metadata": {},
   "outputs": [],
   "source": []
  },
  {
   "cell_type": "code",
   "execution_count": 154,
   "id": "e69cb3f8-1fca-4ec8-bbc3-bde38cdc118b",
   "metadata": {},
   "outputs": [
    {
     "data": {
      "text/plain": [
       "array(['Electronics', 'Home Appliances', 'Clothing', 'Books',\n",
       "       'Beauty Products', 'Sports'], dtype=object)"
      ]
     },
     "execution_count": 154,
     "metadata": {},
     "output_type": "execute_result"
    }
   ],
   "source": [
    "df['Product Category'].unique()"
   ]
  },
  {
   "cell_type": "code",
   "execution_count": 40,
   "id": "079bd765-d4d4-49e5-85b0-525c93314aa1",
   "metadata": {},
   "outputs": [
    {
     "data": {
      "text/html": [
       "<div>\n",
       "<style scoped>\n",
       "    .dataframe tbody tr th:only-of-type {\n",
       "        vertical-align: middle;\n",
       "    }\n",
       "\n",
       "    .dataframe tbody tr th {\n",
       "        vertical-align: top;\n",
       "    }\n",
       "\n",
       "    .dataframe thead th {\n",
       "        text-align: right;\n",
       "    }\n",
       "</style>\n",
       "<table border=\"1\" class=\"dataframe\">\n",
       "  <thead>\n",
       "    <tr style=\"text-align: right;\">\n",
       "      <th></th>\n",
       "      <th>Transaction ID</th>\n",
       "      <th>Date</th>\n",
       "      <th>Product Category</th>\n",
       "      <th>Product Name</th>\n",
       "      <th>Units Sold</th>\n",
       "      <th>Unit Price</th>\n",
       "      <th>Total Revenue</th>\n",
       "      <th>Region</th>\n",
       "      <th>Payment Method</th>\n",
       "      <th>Month</th>\n",
       "    </tr>\n",
       "  </thead>\n",
       "  <tbody>\n",
       "    <tr>\n",
       "      <th>0</th>\n",
       "      <td>10001</td>\n",
       "      <td>2024-01-01</td>\n",
       "      <td>Electronics</td>\n",
       "      <td>iPhone 14 Pro</td>\n",
       "      <td>2</td>\n",
       "      <td>999.99</td>\n",
       "      <td>1999.98</td>\n",
       "      <td>North America</td>\n",
       "      <td>Credit Card</td>\n",
       "      <td>January</td>\n",
       "    </tr>\n",
       "    <tr>\n",
       "      <th>1</th>\n",
       "      <td>10002</td>\n",
       "      <td>2024-01-02</td>\n",
       "      <td>Home Appliances</td>\n",
       "      <td>Dyson V11 Vacuum</td>\n",
       "      <td>1</td>\n",
       "      <td>499.99</td>\n",
       "      <td>499.99</td>\n",
       "      <td>Europe</td>\n",
       "      <td>PayPal</td>\n",
       "      <td>January</td>\n",
       "    </tr>\n",
       "    <tr>\n",
       "      <th>2</th>\n",
       "      <td>10003</td>\n",
       "      <td>2024-01-03</td>\n",
       "      <td>Clothing</td>\n",
       "      <td>Levi's 501 Jeans</td>\n",
       "      <td>3</td>\n",
       "      <td>69.99</td>\n",
       "      <td>209.97</td>\n",
       "      <td>Asia</td>\n",
       "      <td>Debit Card</td>\n",
       "      <td>January</td>\n",
       "    </tr>\n",
       "    <tr>\n",
       "      <th>3</th>\n",
       "      <td>10004</td>\n",
       "      <td>2024-01-04</td>\n",
       "      <td>Books</td>\n",
       "      <td>The Da Vinci Code</td>\n",
       "      <td>4</td>\n",
       "      <td>15.99</td>\n",
       "      <td>63.96</td>\n",
       "      <td>North America</td>\n",
       "      <td>Credit Card</td>\n",
       "      <td>January</td>\n",
       "    </tr>\n",
       "    <tr>\n",
       "      <th>4</th>\n",
       "      <td>10005</td>\n",
       "      <td>2024-01-05</td>\n",
       "      <td>Beauty Products</td>\n",
       "      <td>Neutrogena Skincare Set</td>\n",
       "      <td>1</td>\n",
       "      <td>89.99</td>\n",
       "      <td>89.99</td>\n",
       "      <td>Europe</td>\n",
       "      <td>PayPal</td>\n",
       "      <td>January</td>\n",
       "    </tr>\n",
       "  </tbody>\n",
       "</table>\n",
       "</div>"
      ],
      "text/plain": [
       "   Transaction ID       Date Product Category             Product Name  \\\n",
       "0           10001 2024-01-01      Electronics            iPhone 14 Pro   \n",
       "1           10002 2024-01-02  Home Appliances         Dyson V11 Vacuum   \n",
       "2           10003 2024-01-03         Clothing         Levi's 501 Jeans   \n",
       "3           10004 2024-01-04            Books        The Da Vinci Code   \n",
       "4           10005 2024-01-05  Beauty Products  Neutrogena Skincare Set   \n",
       "\n",
       "   Units Sold  Unit Price  Total Revenue         Region Payment Method  \\\n",
       "0           2      999.99        1999.98  North America    Credit Card   \n",
       "1           1      499.99         499.99         Europe         PayPal   \n",
       "2           3       69.99         209.97           Asia     Debit Card   \n",
       "3           4       15.99          63.96  North America    Credit Card   \n",
       "4           1       89.99          89.99         Europe         PayPal   \n",
       "\n",
       "     Month  \n",
       "0  January  \n",
       "1  January  \n",
       "2  January  \n",
       "3  January  \n",
       "4  January  "
      ]
     },
     "execution_count": 40,
     "metadata": {},
     "output_type": "execute_result"
    }
   ],
   "source": [
    "df.head()"
   ]
  },
  {
   "cell_type": "code",
   "execution_count": 137,
   "id": "05f6ca2b-07e6-4ff4-8864-67e933ee02c7",
   "metadata": {},
   "outputs": [
    {
     "data": {
      "text/html": [
       "<div>\n",
       "<style scoped>\n",
       "    .dataframe tbody tr th:only-of-type {\n",
       "        vertical-align: middle;\n",
       "    }\n",
       "\n",
       "    .dataframe tbody tr th {\n",
       "        vertical-align: top;\n",
       "    }\n",
       "\n",
       "    .dataframe thead th {\n",
       "        text-align: right;\n",
       "    }\n",
       "</style>\n",
       "<table border=\"1\" class=\"dataframe\">\n",
       "  <thead>\n",
       "    <tr style=\"text-align: right;\">\n",
       "      <th></th>\n",
       "      <th>Product Category</th>\n",
       "      <th>Product Name</th>\n",
       "      <th>Units Sold</th>\n",
       "      <th>Total Revenue</th>\n",
       "    </tr>\n",
       "  </thead>\n",
       "  <tbody>\n",
       "    <tr>\n",
       "      <th>0</th>\n",
       "      <td>Beauty Products</td>\n",
       "      <td>Anastasia Beverly Hills Brow Wiz</td>\n",
       "      <td>2</td>\n",
       "      <td>46.00</td>\n",
       "    </tr>\n",
       "    <tr>\n",
       "      <th>1</th>\n",
       "      <td>Beauty Products</td>\n",
       "      <td>Biore UV Aqua Rich Watery Essence Sunscreen</td>\n",
       "      <td>1</td>\n",
       "      <td>15.00</td>\n",
       "    </tr>\n",
       "    <tr>\n",
       "      <th>2</th>\n",
       "      <td>Beauty Products</td>\n",
       "      <td>Caudalie Vinoperfect Radiance Serum</td>\n",
       "      <td>1</td>\n",
       "      <td>79.00</td>\n",
       "    </tr>\n",
       "    <tr>\n",
       "      <th>3</th>\n",
       "      <td>Beauty Products</td>\n",
       "      <td>CeraVe Hydrating Facial Cleanser</td>\n",
       "      <td>2</td>\n",
       "      <td>29.98</td>\n",
       "    </tr>\n",
       "    <tr>\n",
       "      <th>4</th>\n",
       "      <td>Beauty Products</td>\n",
       "      <td>Chanel No. 5 Perfume</td>\n",
       "      <td>1</td>\n",
       "      <td>129.99</td>\n",
       "    </tr>\n",
       "  </tbody>\n",
       "</table>\n",
       "</div>"
      ],
      "text/plain": [
       "  Product Category                                 Product Name  Units Sold  \\\n",
       "0  Beauty Products             Anastasia Beverly Hills Brow Wiz           2   \n",
       "1  Beauty Products  Biore UV Aqua Rich Watery Essence Sunscreen           1   \n",
       "2  Beauty Products          Caudalie Vinoperfect Radiance Serum           1   \n",
       "3  Beauty Products             CeraVe Hydrating Facial Cleanser           2   \n",
       "4  Beauty Products                         Chanel No. 5 Perfume           1   \n",
       "\n",
       "   Total Revenue  \n",
       "0          46.00  \n",
       "1          15.00  \n",
       "2          79.00  \n",
       "3          29.98  \n",
       "4         129.99  "
      ]
     },
     "execution_count": 137,
     "metadata": {},
     "output_type": "execute_result"
    }
   ],
   "source": [
    "product_category_units = df.groupby(['Product Category', 'Product Name'])[['Units Sold', 'Total Revenue']].sum().reset_index()\n",
    "product_category_units.head()"
   ]
  },
  {
   "cell_type": "code",
   "execution_count": 155,
   "id": "1479f90b-88ff-4858-9ceb-f0cb1c02a001",
   "metadata": {},
   "outputs": [],
   "source": [
    "beauty_product = product_category_units[product_category_units['Product Category'] == 'Beauty Products']\n",
    "#beauty_product.head(10)"
   ]
  },
  {
   "cell_type": "code",
   "execution_count": 159,
   "id": "a445d733-b337-4cef-80ed-1501d96a59c7",
   "metadata": {},
   "outputs": [],
   "source": [
    "top_selling_beauty_product_by_units = beauty_product.sort_values('Units Sold', ascending=False)"
   ]
  },
  {
   "cell_type": "code",
   "execution_count": 160,
   "id": "f3e6caa1-d06d-4d60-8a73-22b775d004ce",
   "metadata": {},
   "outputs": [
    {
     "data": {
      "text/html": [
       "<div>\n",
       "<style scoped>\n",
       "    .dataframe tbody tr th:only-of-type {\n",
       "        vertical-align: middle;\n",
       "    }\n",
       "\n",
       "    .dataframe tbody tr th {\n",
       "        vertical-align: top;\n",
       "    }\n",
       "\n",
       "    .dataframe thead th {\n",
       "        text-align: right;\n",
       "    }\n",
       "</style>\n",
       "<table border=\"1\" class=\"dataframe\">\n",
       "  <thead>\n",
       "    <tr style=\"text-align: right;\">\n",
       "      <th></th>\n",
       "      <th>Product Category</th>\n",
       "      <th>Product Name</th>\n",
       "      <th>Units Sold</th>\n",
       "      <th>Total Revenue</th>\n",
       "    </tr>\n",
       "  </thead>\n",
       "  <tbody>\n",
       "    <tr>\n",
       "      <th>0</th>\n",
       "      <td>Beauty Products</td>\n",
       "      <td>Anastasia Beverly Hills Brow Wiz</td>\n",
       "      <td>2</td>\n",
       "      <td>46.00</td>\n",
       "    </tr>\n",
       "    <tr>\n",
       "      <th>1</th>\n",
       "      <td>Beauty Products</td>\n",
       "      <td>First Aid Beauty Ultra Repair Cream</td>\n",
       "      <td>2</td>\n",
       "      <td>68.00</td>\n",
       "    </tr>\n",
       "    <tr>\n",
       "      <th>2</th>\n",
       "      <td>Beauty Products</td>\n",
       "      <td>L'Occitane Shea Butter Hand Cream</td>\n",
       "      <td>2</td>\n",
       "      <td>58.00</td>\n",
       "    </tr>\n",
       "    <tr>\n",
       "      <th>3</th>\n",
       "      <td>Beauty Products</td>\n",
       "      <td>Glossier Boy Brow</td>\n",
       "      <td>2</td>\n",
       "      <td>32.00</td>\n",
       "    </tr>\n",
       "    <tr>\n",
       "      <th>4</th>\n",
       "      <td>Beauty Products</td>\n",
       "      <td>L'Oreal Revitalift Serum</td>\n",
       "      <td>2</td>\n",
       "      <td>79.98</td>\n",
       "    </tr>\n",
       "    <tr>\n",
       "      <th>5</th>\n",
       "      <td>Beauty Products</td>\n",
       "      <td>CeraVe Hydrating Facial Cleanser</td>\n",
       "      <td>2</td>\n",
       "      <td>29.98</td>\n",
       "    </tr>\n",
       "    <tr>\n",
       "      <th>6</th>\n",
       "      <td>Beauty Products</td>\n",
       "      <td>Charlotte Tilbury Magic Cream</td>\n",
       "      <td>1</td>\n",
       "      <td>100.00</td>\n",
       "    </tr>\n",
       "    <tr>\n",
       "      <th>7</th>\n",
       "      <td>Beauty Products</td>\n",
       "      <td>Laneige Water Sleeping Mask</td>\n",
       "      <td>1</td>\n",
       "      <td>25.00</td>\n",
       "    </tr>\n",
       "    <tr>\n",
       "      <th>8</th>\n",
       "      <td>Beauty Products</td>\n",
       "      <td>NARS Radiant Creamy Concealer</td>\n",
       "      <td>1</td>\n",
       "      <td>30.00</td>\n",
       "    </tr>\n",
       "    <tr>\n",
       "      <th>9</th>\n",
       "      <td>Beauty Products</td>\n",
       "      <td>Neutrogena Hydro Boost Water Gel</td>\n",
       "      <td>1</td>\n",
       "      <td>16.99</td>\n",
       "    </tr>\n",
       "  </tbody>\n",
       "</table>\n",
       "</div>"
      ],
      "text/plain": [
       "  Product Category                         Product Name  Units Sold  \\\n",
       "0  Beauty Products     Anastasia Beverly Hills Brow Wiz           2   \n",
       "1  Beauty Products  First Aid Beauty Ultra Repair Cream           2   \n",
       "2  Beauty Products    L'Occitane Shea Butter Hand Cream           2   \n",
       "3  Beauty Products                    Glossier Boy Brow           2   \n",
       "4  Beauty Products             L'Oreal Revitalift Serum           2   \n",
       "5  Beauty Products     CeraVe Hydrating Facial Cleanser           2   \n",
       "6  Beauty Products        Charlotte Tilbury Magic Cream           1   \n",
       "7  Beauty Products          Laneige Water Sleeping Mask           1   \n",
       "8  Beauty Products        NARS Radiant Creamy Concealer           1   \n",
       "9  Beauty Products     Neutrogena Hydro Boost Water Gel           1   \n",
       "\n",
       "   Total Revenue  \n",
       "0          46.00  \n",
       "1          68.00  \n",
       "2          58.00  \n",
       "3          32.00  \n",
       "4          79.98  \n",
       "5          29.98  \n",
       "6         100.00  \n",
       "7          25.00  \n",
       "8          30.00  \n",
       "9          16.99  "
      ]
     },
     "execution_count": 160,
     "metadata": {},
     "output_type": "execute_result"
    }
   ],
   "source": [
    "top_selling_beauty_product_by_units.head(10).reset_index(drop=True)"
   ]
  },
  {
   "cell_type": "code",
   "execution_count": 161,
   "id": "9362188a-5210-4550-ad57-fdc7bb9cf045",
   "metadata": {},
   "outputs": [
    {
     "data": {
      "text/html": [
       "<div>\n",
       "<style scoped>\n",
       "    .dataframe tbody tr th:only-of-type {\n",
       "        vertical-align: middle;\n",
       "    }\n",
       "\n",
       "    .dataframe tbody tr th {\n",
       "        vertical-align: top;\n",
       "    }\n",
       "\n",
       "    .dataframe thead th {\n",
       "        text-align: right;\n",
       "    }\n",
       "</style>\n",
       "<table border=\"1\" class=\"dataframe\">\n",
       "  <thead>\n",
       "    <tr style=\"text-align: right;\">\n",
       "      <th></th>\n",
       "      <th>Product Category</th>\n",
       "      <th>Product Name</th>\n",
       "      <th>Units Sold</th>\n",
       "      <th>Total Revenue</th>\n",
       "    </tr>\n",
       "  </thead>\n",
       "  <tbody>\n",
       "    <tr>\n",
       "      <th>0</th>\n",
       "      <td>Beauty Products</td>\n",
       "      <td>Dyson Supersonic Hair Dryer</td>\n",
       "      <td>1</td>\n",
       "      <td>399.99</td>\n",
       "    </tr>\n",
       "    <tr>\n",
       "      <th>1</th>\n",
       "      <td>Beauty Products</td>\n",
       "      <td>La Mer Crème de la Mer Moisturizer</td>\n",
       "      <td>1</td>\n",
       "      <td>190.00</td>\n",
       "    </tr>\n",
       "    <tr>\n",
       "      <th>2</th>\n",
       "      <td>Beauty Products</td>\n",
       "      <td>Chanel No. 5 Perfume</td>\n",
       "      <td>1</td>\n",
       "      <td>129.99</td>\n",
       "    </tr>\n",
       "    <tr>\n",
       "      <th>3</th>\n",
       "      <td>Beauty Products</td>\n",
       "      <td>Tom Ford Black Orchid Perfume</td>\n",
       "      <td>1</td>\n",
       "      <td>125.00</td>\n",
       "    </tr>\n",
       "    <tr>\n",
       "      <th>4</th>\n",
       "      <td>Beauty Products</td>\n",
       "      <td>Sunday Riley Good Genes</td>\n",
       "      <td>1</td>\n",
       "      <td>105.00</td>\n",
       "    </tr>\n",
       "    <tr>\n",
       "      <th>5</th>\n",
       "      <td>Beauty Products</td>\n",
       "      <td>Estee Lauder Advanced Night Repair</td>\n",
       "      <td>1</td>\n",
       "      <td>105.00</td>\n",
       "    </tr>\n",
       "    <tr>\n",
       "      <th>6</th>\n",
       "      <td>Beauty Products</td>\n",
       "      <td>Lancome La Vie Est Belle</td>\n",
       "      <td>1</td>\n",
       "      <td>102.00</td>\n",
       "    </tr>\n",
       "    <tr>\n",
       "      <th>7</th>\n",
       "      <td>Beauty Products</td>\n",
       "      <td>Charlotte Tilbury Magic Cream</td>\n",
       "      <td>1</td>\n",
       "      <td>100.00</td>\n",
       "    </tr>\n",
       "    <tr>\n",
       "      <th>8</th>\n",
       "      <td>Beauty Products</td>\n",
       "      <td>Neutrogena Skincare Set</td>\n",
       "      <td>1</td>\n",
       "      <td>89.99</td>\n",
       "    </tr>\n",
       "    <tr>\n",
       "      <th>9</th>\n",
       "      <td>Beauty Products</td>\n",
       "      <td>Kiehl's Midnight Recovery Concentrate</td>\n",
       "      <td>1</td>\n",
       "      <td>82.00</td>\n",
       "    </tr>\n",
       "  </tbody>\n",
       "</table>\n",
       "</div>"
      ],
      "text/plain": [
       "  Product Category                           Product Name  Units Sold  \\\n",
       "0  Beauty Products            Dyson Supersonic Hair Dryer           1   \n",
       "1  Beauty Products     La Mer Crème de la Mer Moisturizer           1   \n",
       "2  Beauty Products                   Chanel No. 5 Perfume           1   \n",
       "3  Beauty Products          Tom Ford Black Orchid Perfume           1   \n",
       "4  Beauty Products                Sunday Riley Good Genes           1   \n",
       "5  Beauty Products     Estee Lauder Advanced Night Repair           1   \n",
       "6  Beauty Products               Lancome La Vie Est Belle           1   \n",
       "7  Beauty Products          Charlotte Tilbury Magic Cream           1   \n",
       "8  Beauty Products                Neutrogena Skincare Set           1   \n",
       "9  Beauty Products  Kiehl's Midnight Recovery Concentrate           1   \n",
       "\n",
       "   Total Revenue  \n",
       "0         399.99  \n",
       "1         190.00  \n",
       "2         129.99  \n",
       "3         125.00  \n",
       "4         105.00  \n",
       "5         105.00  \n",
       "6         102.00  \n",
       "7         100.00  \n",
       "8          89.99  \n",
       "9          82.00  "
      ]
     },
     "execution_count": 161,
     "metadata": {},
     "output_type": "execute_result"
    }
   ],
   "source": [
    "top_selling_beauty_product_by_revenue = beauty_product.sort_values('Total Revenue' , ascending=False)\n",
    "top_selling_beauty_product_by_revenue.head(10).reset_index(drop=True)"
   ]
  },
  {
   "cell_type": "code",
   "execution_count": 158,
   "id": "242158af-5901-4473-95bd-5a67d8c2a2ac",
   "metadata": {},
   "outputs": [],
   "source": [
    "Electronics_product = product_category_units[product_category_units['Product Category'] == 'Electronics']"
   ]
  },
  {
   "cell_type": "code",
   "execution_count": 162,
   "id": "b8fb72f8-3d59-415d-a8eb-c0d1738fa036",
   "metadata": {},
   "outputs": [
    {
     "data": {
      "text/html": [
       "<div>\n",
       "<style scoped>\n",
       "    .dataframe tbody tr th:only-of-type {\n",
       "        vertical-align: middle;\n",
       "    }\n",
       "\n",
       "    .dataframe tbody tr th {\n",
       "        vertical-align: top;\n",
       "    }\n",
       "\n",
       "    .dataframe thead th {\n",
       "        text-align: right;\n",
       "    }\n",
       "</style>\n",
       "<table border=\"1\" class=\"dataframe\">\n",
       "  <thead>\n",
       "    <tr style=\"text-align: right;\">\n",
       "      <th></th>\n",
       "      <th>Product Category</th>\n",
       "      <th>Product Name</th>\n",
       "      <th>Units Sold</th>\n",
       "      <th>Total Revenue</th>\n",
       "    </tr>\n",
       "  </thead>\n",
       "  <tbody>\n",
       "    <tr>\n",
       "      <th>0</th>\n",
       "      <td>Electronics</td>\n",
       "      <td>Amazon Echo Dot (4th Gen)</td>\n",
       "      <td>4</td>\n",
       "      <td>199.96</td>\n",
       "    </tr>\n",
       "    <tr>\n",
       "      <th>1</th>\n",
       "      <td>Electronics</td>\n",
       "      <td>Anker PowerCore Portable Charger</td>\n",
       "      <td>4</td>\n",
       "      <td>239.96</td>\n",
       "    </tr>\n",
       "    <tr>\n",
       "      <th>2</th>\n",
       "      <td>Electronics</td>\n",
       "      <td>Bose SoundLink Revolve+ Speaker</td>\n",
       "      <td>3</td>\n",
       "      <td>899.97</td>\n",
       "    </tr>\n",
       "    <tr>\n",
       "      <th>3</th>\n",
       "      <td>Electronics</td>\n",
       "      <td>Amazon Fire TV Stick 4K</td>\n",
       "      <td>3</td>\n",
       "      <td>149.97</td>\n",
       "    </tr>\n",
       "    <tr>\n",
       "      <th>4</th>\n",
       "      <td>Electronics</td>\n",
       "      <td>Sony WH-1000XM4 Headphones</td>\n",
       "      <td>3</td>\n",
       "      <td>1049.97</td>\n",
       "    </tr>\n",
       "    <tr>\n",
       "      <th>5</th>\n",
       "      <td>Electronics</td>\n",
       "      <td>Nintendo Switch</td>\n",
       "      <td>3</td>\n",
       "      <td>899.97</td>\n",
       "    </tr>\n",
       "    <tr>\n",
       "      <th>6</th>\n",
       "      <td>Electronics</td>\n",
       "      <td>Apple Watch Series 8</td>\n",
       "      <td>3</td>\n",
       "      <td>1199.97</td>\n",
       "    </tr>\n",
       "    <tr>\n",
       "      <th>7</th>\n",
       "      <td>Electronics</td>\n",
       "      <td>GoPro HERO10 Black</td>\n",
       "      <td>3</td>\n",
       "      <td>1199.97</td>\n",
       "    </tr>\n",
       "    <tr>\n",
       "      <th>8</th>\n",
       "      <td>Electronics</td>\n",
       "      <td>Samsung Galaxy Tab S8</td>\n",
       "      <td>2</td>\n",
       "      <td>1499.98</td>\n",
       "    </tr>\n",
       "    <tr>\n",
       "      <th>9</th>\n",
       "      <td>Electronics</td>\n",
       "      <td>Logitech MX Master 3 Mouse</td>\n",
       "      <td>2</td>\n",
       "      <td>199.98</td>\n",
       "    </tr>\n",
       "  </tbody>\n",
       "</table>\n",
       "</div>"
      ],
      "text/plain": [
       "  Product Category                      Product Name  Units Sold  \\\n",
       "0      Electronics         Amazon Echo Dot (4th Gen)           4   \n",
       "1      Electronics  Anker PowerCore Portable Charger           4   \n",
       "2      Electronics   Bose SoundLink Revolve+ Speaker           3   \n",
       "3      Electronics           Amazon Fire TV Stick 4K           3   \n",
       "4      Electronics        Sony WH-1000XM4 Headphones           3   \n",
       "5      Electronics                   Nintendo Switch           3   \n",
       "6      Electronics              Apple Watch Series 8           3   \n",
       "7      Electronics                GoPro HERO10 Black           3   \n",
       "8      Electronics             Samsung Galaxy Tab S8           2   \n",
       "9      Electronics        Logitech MX Master 3 Mouse           2   \n",
       "\n",
       "   Total Revenue  \n",
       "0         199.96  \n",
       "1         239.96  \n",
       "2         899.97  \n",
       "3         149.97  \n",
       "4        1049.97  \n",
       "5         899.97  \n",
       "6        1199.97  \n",
       "7        1199.97  \n",
       "8        1499.98  \n",
       "9         199.98  "
      ]
     },
     "execution_count": 162,
     "metadata": {},
     "output_type": "execute_result"
    }
   ],
   "source": [
    "Electronics_product_by_units = Electronics_product.sort_values('Units Sold', ascending=False)\n",
    "Electronics_product_by_units.head(10).reset_index(drop=True)"
   ]
  },
  {
   "cell_type": "code",
   "execution_count": 163,
   "id": "29d98836-dcce-40b5-b4e3-9815eea3b944",
   "metadata": {},
   "outputs": [
    {
     "data": {
      "text/html": [
       "<div>\n",
       "<style scoped>\n",
       "    .dataframe tbody tr th:only-of-type {\n",
       "        vertical-align: middle;\n",
       "    }\n",
       "\n",
       "    .dataframe tbody tr th {\n",
       "        vertical-align: top;\n",
       "    }\n",
       "\n",
       "    .dataframe thead th {\n",
       "        text-align: right;\n",
       "    }\n",
       "</style>\n",
       "<table border=\"1\" class=\"dataframe\">\n",
       "  <thead>\n",
       "    <tr style=\"text-align: right;\">\n",
       "      <th></th>\n",
       "      <th>Product Category</th>\n",
       "      <th>Product Name</th>\n",
       "      <th>Units Sold</th>\n",
       "      <th>Total Revenue</th>\n",
       "    </tr>\n",
       "  </thead>\n",
       "  <tbody>\n",
       "    <tr>\n",
       "      <th>0</th>\n",
       "      <td>Electronics</td>\n",
       "      <td>Canon EOS R5 Camera</td>\n",
       "      <td>1</td>\n",
       "      <td>3899.99</td>\n",
       "    </tr>\n",
       "    <tr>\n",
       "      <th>1</th>\n",
       "      <td>Electronics</td>\n",
       "      <td>MacBook Pro 16-inch</td>\n",
       "      <td>1</td>\n",
       "      <td>2499.99</td>\n",
       "    </tr>\n",
       "    <tr>\n",
       "      <th>2</th>\n",
       "      <td>Electronics</td>\n",
       "      <td>Apple MacBook Pro 16-inch</td>\n",
       "      <td>1</td>\n",
       "      <td>2399.00</td>\n",
       "    </tr>\n",
       "    <tr>\n",
       "      <th>3</th>\n",
       "      <td>Electronics</td>\n",
       "      <td>iPhone 14 Pro</td>\n",
       "      <td>2</td>\n",
       "      <td>1999.98</td>\n",
       "    </tr>\n",
       "    <tr>\n",
       "      <th>4</th>\n",
       "      <td>Electronics</td>\n",
       "      <td>HP Spectre x360 Laptop</td>\n",
       "      <td>1</td>\n",
       "      <td>1599.99</td>\n",
       "    </tr>\n",
       "    <tr>\n",
       "      <th>5</th>\n",
       "      <td>Electronics</td>\n",
       "      <td>Samsung Odyssey G9 Gaming Monitor</td>\n",
       "      <td>1</td>\n",
       "      <td>1499.99</td>\n",
       "    </tr>\n",
       "    <tr>\n",
       "      <th>6</th>\n",
       "      <td>Electronics</td>\n",
       "      <td>Samsung Galaxy Tab S8</td>\n",
       "      <td>2</td>\n",
       "      <td>1499.98</td>\n",
       "    </tr>\n",
       "    <tr>\n",
       "      <th>7</th>\n",
       "      <td>Electronics</td>\n",
       "      <td>Microsoft Surface Laptop 4</td>\n",
       "      <td>1</td>\n",
       "      <td>1299.99</td>\n",
       "    </tr>\n",
       "    <tr>\n",
       "      <th>8</th>\n",
       "      <td>Electronics</td>\n",
       "      <td>Samsung QLED 4K TV</td>\n",
       "      <td>1</td>\n",
       "      <td>1199.99</td>\n",
       "    </tr>\n",
       "    <tr>\n",
       "      <th>9</th>\n",
       "      <td>Electronics</td>\n",
       "      <td>Apple MacBook Air</td>\n",
       "      <td>1</td>\n",
       "      <td>1199.99</td>\n",
       "    </tr>\n",
       "  </tbody>\n",
       "</table>\n",
       "</div>"
      ],
      "text/plain": [
       "  Product Category                       Product Name  Units Sold  \\\n",
       "0      Electronics                Canon EOS R5 Camera           1   \n",
       "1      Electronics                MacBook Pro 16-inch           1   \n",
       "2      Electronics          Apple MacBook Pro 16-inch           1   \n",
       "3      Electronics                      iPhone 14 Pro           2   \n",
       "4      Electronics             HP Spectre x360 Laptop           1   \n",
       "5      Electronics  Samsung Odyssey G9 Gaming Monitor           1   \n",
       "6      Electronics              Samsung Galaxy Tab S8           2   \n",
       "7      Electronics         Microsoft Surface Laptop 4           1   \n",
       "8      Electronics                 Samsung QLED 4K TV           1   \n",
       "9      Electronics                  Apple MacBook Air           1   \n",
       "\n",
       "   Total Revenue  \n",
       "0        3899.99  \n",
       "1        2499.99  \n",
       "2        2399.00  \n",
       "3        1999.98  \n",
       "4        1599.99  \n",
       "5        1499.99  \n",
       "6        1499.98  \n",
       "7        1299.99  \n",
       "8        1199.99  \n",
       "9        1199.99  "
      ]
     },
     "execution_count": 163,
     "metadata": {},
     "output_type": "execute_result"
    }
   ],
   "source": [
    "Electronics_product_by_Revenue = Electronics_product.sort_values('Total Revenue', ascending=False)\n",
    "Electronics_product_by_Revenue.head(10).reset_index(drop=True)"
   ]
  },
  {
   "cell_type": "code",
   "execution_count": 178,
   "id": "d06cde12-0071-49c1-99f2-abdc3946a1e1",
   "metadata": {},
   "outputs": [],
   "source": [
    "#Home_Appliances_product = product_category_units[product_category_units['Product Category'] == 'Home Appliances']\n",
    "#Home_Appliances_product_by_units = Home_Appliances_product.sort_values('Units Sold', ascending=False)\n",
    "#Home_Appliances_product_by_units.head(10).reset_index(drop=True)"
   ]
  },
  {
   "cell_type": "code",
   "execution_count": 179,
   "id": "e6894194-b858-417d-9dbc-a4544032324d",
   "metadata": {},
   "outputs": [
    {
     "data": {
      "text/html": [
       "<div>\n",
       "<style scoped>\n",
       "    .dataframe tbody tr th:only-of-type {\n",
       "        vertical-align: middle;\n",
       "    }\n",
       "\n",
       "    .dataframe tbody tr th {\n",
       "        vertical-align: top;\n",
       "    }\n",
       "\n",
       "    .dataframe thead th {\n",
       "        text-align: right;\n",
       "    }\n",
       "</style>\n",
       "<table border=\"1\" class=\"dataframe\">\n",
       "  <thead>\n",
       "    <tr style=\"text-align: right;\">\n",
       "      <th></th>\n",
       "      <th>Product Category</th>\n",
       "      <th>Product Name</th>\n",
       "      <th>Total Revenue</th>\n",
       "    </tr>\n",
       "  </thead>\n",
       "  <tbody>\n",
       "    <tr>\n",
       "      <th>0</th>\n",
       "      <td>Home Appliances</td>\n",
       "      <td>LG OLED TV</td>\n",
       "      <td>2599.98</td>\n",
       "    </tr>\n",
       "    <tr>\n",
       "      <th>1</th>\n",
       "      <td>Home Appliances</td>\n",
       "      <td>Roomba i7+</td>\n",
       "      <td>1599.98</td>\n",
       "    </tr>\n",
       "    <tr>\n",
       "      <th>2</th>\n",
       "      <td>Home Appliances</td>\n",
       "      <td>Blueair Classic 480i</td>\n",
       "      <td>1199.98</td>\n",
       "    </tr>\n",
       "    <tr>\n",
       "      <th>3</th>\n",
       "      <td>Home Appliances</td>\n",
       "      <td>De'Longhi Magnifica Espresso Machine</td>\n",
       "      <td>899.99</td>\n",
       "    </tr>\n",
       "    <tr>\n",
       "      <th>4</th>\n",
       "      <td>Home Appliances</td>\n",
       "      <td>Dyson Supersonic Hair Dryer</td>\n",
       "      <td>799.98</td>\n",
       "    </tr>\n",
       "    <tr>\n",
       "      <th>5</th>\n",
       "      <td>Home Appliances</td>\n",
       "      <td>Shark IQ Robot Vacuum</td>\n",
       "      <td>699.98</td>\n",
       "    </tr>\n",
       "    <tr>\n",
       "      <th>6</th>\n",
       "      <td>Home Appliances</td>\n",
       "      <td>Eufy RoboVac 11S</td>\n",
       "      <td>659.97</td>\n",
       "    </tr>\n",
       "    <tr>\n",
       "      <th>7</th>\n",
       "      <td>Home Appliances</td>\n",
       "      <td>Breville Smart Grill</td>\n",
       "      <td>599.90</td>\n",
       "    </tr>\n",
       "    <tr>\n",
       "      <th>8</th>\n",
       "      <td>Home Appliances</td>\n",
       "      <td>Anova Precision Oven</td>\n",
       "      <td>599.00</td>\n",
       "    </tr>\n",
       "    <tr>\n",
       "      <th>9</th>\n",
       "      <td>Home Appliances</td>\n",
       "      <td>Keurig K-Elite Coffee Maker</td>\n",
       "      <td>529.97</td>\n",
       "    </tr>\n",
       "  </tbody>\n",
       "</table>\n",
       "</div>"
      ],
      "text/plain": [
       "  Product Category                          Product Name  Total Revenue\n",
       "0  Home Appliances                            LG OLED TV        2599.98\n",
       "1  Home Appliances                            Roomba i7+        1599.98\n",
       "2  Home Appliances                  Blueair Classic 480i        1199.98\n",
       "3  Home Appliances  De'Longhi Magnifica Espresso Machine         899.99\n",
       "4  Home Appliances           Dyson Supersonic Hair Dryer         799.98\n",
       "5  Home Appliances                 Shark IQ Robot Vacuum         699.98\n",
       "6  Home Appliances                      Eufy RoboVac 11S         659.97\n",
       "7  Home Appliances                  Breville Smart Grill         599.90\n",
       "8  Home Appliances                  Anova Precision Oven         599.00\n",
       "9  Home Appliances           Keurig K-Elite Coffee Maker         529.97"
      ]
     },
     "execution_count": 179,
     "metadata": {},
     "output_type": "execute_result"
    }
   ],
   "source": [
    "Home_Appliances_product = product_category_units[product_category_units['Product Category'] == 'Home Appliances']\n",
    "Home_Appliances_product_by_revenue = Home_Appliances_product.sort_values('Total Revenue', ascending=False)\n",
    "Home_Appliances_product_by_revenue.head(10).reset_index(drop=True).drop('Units Sold', axis=1)"
   ]
  },
  {
   "cell_type": "code",
   "execution_count": 175,
   "id": "06760cef-e667-461a-b742-7802734f1e81",
   "metadata": {},
   "outputs": [
    {
     "data": {
      "text/html": [
       "<div>\n",
       "<style scoped>\n",
       "    .dataframe tbody tr th:only-of-type {\n",
       "        vertical-align: middle;\n",
       "    }\n",
       "\n",
       "    .dataframe tbody tr th {\n",
       "        vertical-align: top;\n",
       "    }\n",
       "\n",
       "    .dataframe thead th {\n",
       "        text-align: right;\n",
       "    }\n",
       "</style>\n",
       "<table border=\"1\" class=\"dataframe\">\n",
       "  <thead>\n",
       "    <tr style=\"text-align: right;\">\n",
       "      <th></th>\n",
       "      <th>Product Category</th>\n",
       "      <th>Product Name</th>\n",
       "      <th>Units Sold</th>\n",
       "      <th>Total Revenue</th>\n",
       "    </tr>\n",
       "  </thead>\n",
       "  <tbody>\n",
       "    <tr>\n",
       "      <th>0</th>\n",
       "      <td>Clothing</td>\n",
       "      <td>Hanes ComfortSoft T-Shirt</td>\n",
       "      <td>10</td>\n",
       "      <td>99.90</td>\n",
       "    </tr>\n",
       "    <tr>\n",
       "      <th>1</th>\n",
       "      <td>Clothing</td>\n",
       "      <td>Nike Air Force 1</td>\n",
       "      <td>6</td>\n",
       "      <td>539.94</td>\n",
       "    </tr>\n",
       "    <tr>\n",
       "      <th>2</th>\n",
       "      <td>Clothing</td>\n",
       "      <td>Gap Essential Crewneck T-Shirt</td>\n",
       "      <td>6</td>\n",
       "      <td>119.94</td>\n",
       "    </tr>\n",
       "    <tr>\n",
       "      <th>3</th>\n",
       "      <td>Clothing</td>\n",
       "      <td>Forever 21 Graphic Tee</td>\n",
       "      <td>5</td>\n",
       "      <td>64.95</td>\n",
       "    </tr>\n",
       "    <tr>\n",
       "      <th>4</th>\n",
       "      <td>Clothing</td>\n",
       "      <td>Tommy Hilfiger Polo Shirt</td>\n",
       "      <td>5</td>\n",
       "      <td>249.95</td>\n",
       "    </tr>\n",
       "    <tr>\n",
       "      <th>5</th>\n",
       "      <td>Clothing</td>\n",
       "      <td>Under Armour HeatGear T-Shirt</td>\n",
       "      <td>5</td>\n",
       "      <td>149.95</td>\n",
       "    </tr>\n",
       "    <tr>\n",
       "      <th>6</th>\n",
       "      <td>Clothing</td>\n",
       "      <td>Adidas 3-Stripes Shorts</td>\n",
       "      <td>5</td>\n",
       "      <td>149.95</td>\n",
       "    </tr>\n",
       "    <tr>\n",
       "      <th>7</th>\n",
       "      <td>Clothing</td>\n",
       "      <td>Calvin Klein Boxer Briefs</td>\n",
       "      <td>5</td>\n",
       "      <td>149.95</td>\n",
       "    </tr>\n",
       "    <tr>\n",
       "      <th>8</th>\n",
       "      <td>Clothing</td>\n",
       "      <td>Uniqlo Airism Mesh Boxer Briefs</td>\n",
       "      <td>4</td>\n",
       "      <td>59.60</td>\n",
       "    </tr>\n",
       "    <tr>\n",
       "      <th>9</th>\n",
       "      <td>Clothing</td>\n",
       "      <td>Columbia Fleece Jacket</td>\n",
       "      <td>4</td>\n",
       "      <td>239.96</td>\n",
       "    </tr>\n",
       "  </tbody>\n",
       "</table>\n",
       "</div>"
      ],
      "text/plain": [
       "  Product Category                     Product Name  Units Sold  Total Revenue\n",
       "0         Clothing        Hanes ComfortSoft T-Shirt          10          99.90\n",
       "1         Clothing                 Nike Air Force 1           6         539.94\n",
       "2         Clothing   Gap Essential Crewneck T-Shirt           6         119.94\n",
       "3         Clothing           Forever 21 Graphic Tee           5          64.95\n",
       "4         Clothing        Tommy Hilfiger Polo Shirt           5         249.95\n",
       "5         Clothing    Under Armour HeatGear T-Shirt           5         149.95\n",
       "6         Clothing          Adidas 3-Stripes Shorts           5         149.95\n",
       "7         Clothing        Calvin Klein Boxer Briefs           5         149.95\n",
       "8         Clothing  Uniqlo Airism Mesh Boxer Briefs           4          59.60\n",
       "9         Clothing           Columbia Fleece Jacket           4         239.96"
      ]
     },
     "execution_count": 175,
     "metadata": {},
     "output_type": "execute_result"
    }
   ],
   "source": [
    "Clothings_product = product_category_units[product_category_units['Product Category'] == 'Clothing']\n",
    "Clothing_product_by_units = Clothings_product.sort_values('Units Sold', ascending=False)\n",
    "Clothing_product_by_units.head(10).reset_index(drop=True)"
   ]
  },
  {
   "cell_type": "code",
   "execution_count": 176,
   "id": "be79315a-104f-4c80-a1cd-d11fdb96386b",
   "metadata": {},
   "outputs": [
    {
     "data": {
      "text/html": [
       "<div>\n",
       "<style scoped>\n",
       "    .dataframe tbody tr th:only-of-type {\n",
       "        vertical-align: middle;\n",
       "    }\n",
       "\n",
       "    .dataframe tbody tr th {\n",
       "        vertical-align: top;\n",
       "    }\n",
       "\n",
       "    .dataframe thead th {\n",
       "        text-align: right;\n",
       "    }\n",
       "</style>\n",
       "<table border=\"1\" class=\"dataframe\">\n",
       "  <thead>\n",
       "    <tr style=\"text-align: right;\">\n",
       "      <th></th>\n",
       "      <th>Product Category</th>\n",
       "      <th>Product Name</th>\n",
       "      <th>Units Sold</th>\n",
       "      <th>Total Revenue</th>\n",
       "    </tr>\n",
       "  </thead>\n",
       "  <tbody>\n",
       "    <tr>\n",
       "      <th>0</th>\n",
       "      <td>Clothing</td>\n",
       "      <td>Nike Air Force 1</td>\n",
       "      <td>6</td>\n",
       "      <td>539.94</td>\n",
       "    </tr>\n",
       "    <tr>\n",
       "      <th>1</th>\n",
       "      <td>Clothing</td>\n",
       "      <td>North Face Down Jacket</td>\n",
       "      <td>2</td>\n",
       "      <td>499.98</td>\n",
       "    </tr>\n",
       "    <tr>\n",
       "      <th>2</th>\n",
       "      <td>Clothing</td>\n",
       "      <td>Ray-Ban Aviator Sunglasses</td>\n",
       "      <td>3</td>\n",
       "      <td>464.97</td>\n",
       "    </tr>\n",
       "    <tr>\n",
       "      <th>3</th>\n",
       "      <td>Clothing</td>\n",
       "      <td>Adidas Ultraboost Running Shoes</td>\n",
       "      <td>2</td>\n",
       "      <td>359.98</td>\n",
       "    </tr>\n",
       "    <tr>\n",
       "      <th>4</th>\n",
       "      <td>Clothing</td>\n",
       "      <td>Adidas Ultraboost Shoes</td>\n",
       "      <td>2</td>\n",
       "      <td>359.98</td>\n",
       "    </tr>\n",
       "    <tr>\n",
       "      <th>5</th>\n",
       "      <td>Clothing</td>\n",
       "      <td>Adidas Originals Superstar Sneakers</td>\n",
       "      <td>4</td>\n",
       "      <td>319.96</td>\n",
       "    </tr>\n",
       "    <tr>\n",
       "      <th>6</th>\n",
       "      <td>Clothing</td>\n",
       "      <td>Lululemon Align Leggings</td>\n",
       "      <td>3</td>\n",
       "      <td>294.00</td>\n",
       "    </tr>\n",
       "    <tr>\n",
       "      <th>7</th>\n",
       "      <td>Clothing</td>\n",
       "      <td>Patagonia Better Sweater</td>\n",
       "      <td>2</td>\n",
       "      <td>279.98</td>\n",
       "    </tr>\n",
       "    <tr>\n",
       "      <th>8</th>\n",
       "      <td>Clothing</td>\n",
       "      <td>Nike Air Force 1 Sneakers</td>\n",
       "      <td>3</td>\n",
       "      <td>270.00</td>\n",
       "    </tr>\n",
       "    <tr>\n",
       "      <th>9</th>\n",
       "      <td>Clothing</td>\n",
       "      <td>Adidas Originals Trefoil Hoodie</td>\n",
       "      <td>4</td>\n",
       "      <td>259.96</td>\n",
       "    </tr>\n",
       "  </tbody>\n",
       "</table>\n",
       "</div>"
      ],
      "text/plain": [
       "  Product Category                         Product Name  Units Sold  \\\n",
       "0         Clothing                     Nike Air Force 1           6   \n",
       "1         Clothing               North Face Down Jacket           2   \n",
       "2         Clothing           Ray-Ban Aviator Sunglasses           3   \n",
       "3         Clothing      Adidas Ultraboost Running Shoes           2   \n",
       "4         Clothing              Adidas Ultraboost Shoes           2   \n",
       "5         Clothing  Adidas Originals Superstar Sneakers           4   \n",
       "6         Clothing             Lululemon Align Leggings           3   \n",
       "7         Clothing             Patagonia Better Sweater           2   \n",
       "8         Clothing            Nike Air Force 1 Sneakers           3   \n",
       "9         Clothing      Adidas Originals Trefoil Hoodie           4   \n",
       "\n",
       "   Total Revenue  \n",
       "0         539.94  \n",
       "1         499.98  \n",
       "2         464.97  \n",
       "3         359.98  \n",
       "4         359.98  \n",
       "5         319.96  \n",
       "6         294.00  \n",
       "7         279.98  \n",
       "8         270.00  \n",
       "9         259.96  "
      ]
     },
     "execution_count": 176,
     "metadata": {},
     "output_type": "execute_result"
    }
   ],
   "source": [
    "Clothings_product = product_category_units[product_category_units['Product Category'] == 'Clothing']\n",
    "Clothing_product_by_revenue = Clothings_product.sort_values('Total Revenue', ascending=False)\n",
    "Clothing_product_by_revenue.head(10).reset_index(drop=True)"
   ]
  },
  {
   "cell_type": "code",
   "execution_count": null,
   "id": "eadbf6b3-2b58-47af-a8cd-5c5b7b478493",
   "metadata": {},
   "outputs": [],
   "source": [
    "'Sports'"
   ]
  },
  {
   "cell_type": "code",
   "execution_count": 182,
   "id": "e11ae79f-b4a3-4896-9e61-6fa25c08c4bf",
   "metadata": {},
   "outputs": [
    {
     "data": {
      "text/html": [
       "<div>\n",
       "<style scoped>\n",
       "    .dataframe tbody tr th:only-of-type {\n",
       "        vertical-align: middle;\n",
       "    }\n",
       "\n",
       "    .dataframe tbody tr th {\n",
       "        vertical-align: top;\n",
       "    }\n",
       "\n",
       "    .dataframe thead th {\n",
       "        text-align: right;\n",
       "    }\n",
       "</style>\n",
       "<table border=\"1\" class=\"dataframe\">\n",
       "  <thead>\n",
       "    <tr style=\"text-align: right;\">\n",
       "      <th></th>\n",
       "      <th>Product Category</th>\n",
       "      <th>Product Name</th>\n",
       "      <th>Units Sold</th>\n",
       "      <th>Total Revenue</th>\n",
       "    </tr>\n",
       "  </thead>\n",
       "  <tbody>\n",
       "    <tr>\n",
       "      <th>0</th>\n",
       "      <td>Books</td>\n",
       "      <td>The Silent Patient by Alex Michaelides</td>\n",
       "      <td>5</td>\n",
       "      <td>134.95</td>\n",
       "    </tr>\n",
       "    <tr>\n",
       "      <th>1</th>\n",
       "      <td>Books</td>\n",
       "      <td>Becoming by Michelle Obama</td>\n",
       "      <td>4</td>\n",
       "      <td>130.00</td>\n",
       "    </tr>\n",
       "    <tr>\n",
       "      <th>2</th>\n",
       "      <td>Books</td>\n",
       "      <td>Salt, Fat, Acid, Heat by Samin Nosrat</td>\n",
       "      <td>3</td>\n",
       "      <td>107.97</td>\n",
       "    </tr>\n",
       "    <tr>\n",
       "      <th>3</th>\n",
       "      <td>Books</td>\n",
       "      <td>The Catcher in the Rye by J.D. Salinger</td>\n",
       "      <td>7</td>\n",
       "      <td>88.93</td>\n",
       "    </tr>\n",
       "    <tr>\n",
       "      <th>4</th>\n",
       "      <td>Books</td>\n",
       "      <td>Educated by Tara Westover</td>\n",
       "      <td>3</td>\n",
       "      <td>84.00</td>\n",
       "    </tr>\n",
       "    <tr>\n",
       "      <th>5</th>\n",
       "      <td>Books</td>\n",
       "      <td>1984 by George Orwell</td>\n",
       "      <td>4</td>\n",
       "      <td>79.96</td>\n",
       "    </tr>\n",
       "    <tr>\n",
       "      <th>6</th>\n",
       "      <td>Books</td>\n",
       "      <td>Where the Crawdads Sing by Delia Owens</td>\n",
       "      <td>4</td>\n",
       "      <td>75.96</td>\n",
       "    </tr>\n",
       "    <tr>\n",
       "      <th>7</th>\n",
       "      <td>Books</td>\n",
       "      <td>Harry Potter and the Sorcerer's Stone</td>\n",
       "      <td>3</td>\n",
       "      <td>74.97</td>\n",
       "    </tr>\n",
       "    <tr>\n",
       "      <th>8</th>\n",
       "      <td>Books</td>\n",
       "      <td>Dune by Frank Herbert</td>\n",
       "      <td>4</td>\n",
       "      <td>71.96</td>\n",
       "    </tr>\n",
       "    <tr>\n",
       "      <th>9</th>\n",
       "      <td>Books</td>\n",
       "      <td>Atomic Habits by James Clear</td>\n",
       "      <td>4</td>\n",
       "      <td>67.96</td>\n",
       "    </tr>\n",
       "  </tbody>\n",
       "</table>\n",
       "</div>"
      ],
      "text/plain": [
       "  Product Category                             Product Name  Units Sold  \\\n",
       "0            Books   The Silent Patient by Alex Michaelides           5   \n",
       "1            Books               Becoming by Michelle Obama           4   \n",
       "2            Books    Salt, Fat, Acid, Heat by Samin Nosrat           3   \n",
       "3            Books  The Catcher in the Rye by J.D. Salinger           7   \n",
       "4            Books                Educated by Tara Westover           3   \n",
       "5            Books                    1984 by George Orwell           4   \n",
       "6            Books   Where the Crawdads Sing by Delia Owens           4   \n",
       "7            Books    Harry Potter and the Sorcerer's Stone           3   \n",
       "8            Books                    Dune by Frank Herbert           4   \n",
       "9            Books             Atomic Habits by James Clear           4   \n",
       "\n",
       "   Total Revenue  \n",
       "0         134.95  \n",
       "1         130.00  \n",
       "2         107.97  \n",
       "3          88.93  \n",
       "4          84.00  \n",
       "5          79.96  \n",
       "6          75.96  \n",
       "7          74.97  \n",
       "8          71.96  \n",
       "9          67.96  "
      ]
     },
     "execution_count": 182,
     "metadata": {},
     "output_type": "execute_result"
    }
   ],
   "source": [
    "Books = product_category_units[product_category_units['Product Category'] == 'Books']\n",
    "Books_by_revenue = Books.sort_values('Total Revenue', ascending=False)\n",
    "Books_by_revenue.head(10).reset_index(drop=True)"
   ]
  },
  {
   "cell_type": "code",
   "execution_count": 181,
   "id": "bfd3d742-154c-49ed-92ae-58aa0759f329",
   "metadata": {},
   "outputs": [
    {
     "data": {
      "text/html": [
       "<div>\n",
       "<style scoped>\n",
       "    .dataframe tbody tr th:only-of-type {\n",
       "        vertical-align: middle;\n",
       "    }\n",
       "\n",
       "    .dataframe tbody tr th {\n",
       "        vertical-align: top;\n",
       "    }\n",
       "\n",
       "    .dataframe thead th {\n",
       "        text-align: right;\n",
       "    }\n",
       "</style>\n",
       "<table border=\"1\" class=\"dataframe\">\n",
       "  <thead>\n",
       "    <tr style=\"text-align: right;\">\n",
       "      <th></th>\n",
       "      <th>Product Category</th>\n",
       "      <th>Product Name</th>\n",
       "      <th>Units Sold</th>\n",
       "      <th>Total Revenue</th>\n",
       "    </tr>\n",
       "  </thead>\n",
       "  <tbody>\n",
       "    <tr>\n",
       "      <th>0</th>\n",
       "      <td>Books</td>\n",
       "      <td>The Catcher in the Rye by J.D. Salinger</td>\n",
       "      <td>7</td>\n",
       "      <td>88.93</td>\n",
       "    </tr>\n",
       "    <tr>\n",
       "      <th>1</th>\n",
       "      <td>Books</td>\n",
       "      <td>The Silent Patient by Alex Michaelides</td>\n",
       "      <td>5</td>\n",
       "      <td>134.95</td>\n",
       "    </tr>\n",
       "    <tr>\n",
       "      <th>2</th>\n",
       "      <td>Books</td>\n",
       "      <td>The Girl with the Dragon Tattoo by Stieg Larsson</td>\n",
       "      <td>5</td>\n",
       "      <td>52.95</td>\n",
       "    </tr>\n",
       "    <tr>\n",
       "      <th>3</th>\n",
       "      <td>Books</td>\n",
       "      <td>1984 by George Orwell</td>\n",
       "      <td>4</td>\n",
       "      <td>79.96</td>\n",
       "    </tr>\n",
       "    <tr>\n",
       "      <th>4</th>\n",
       "      <td>Books</td>\n",
       "      <td>To Kill a Mockingbird by Harper Lee</td>\n",
       "      <td>4</td>\n",
       "      <td>59.96</td>\n",
       "    </tr>\n",
       "    <tr>\n",
       "      <th>5</th>\n",
       "      <td>Books</td>\n",
       "      <td>The Hunger Games by Suzanne Collins</td>\n",
       "      <td>4</td>\n",
       "      <td>35.96</td>\n",
       "    </tr>\n",
       "    <tr>\n",
       "      <th>6</th>\n",
       "      <td>Books</td>\n",
       "      <td>Atomic Habits by James Clear</td>\n",
       "      <td>4</td>\n",
       "      <td>67.96</td>\n",
       "    </tr>\n",
       "    <tr>\n",
       "      <th>7</th>\n",
       "      <td>Books</td>\n",
       "      <td>The Girl on the Train by Paula Hawkins</td>\n",
       "      <td>4</td>\n",
       "      <td>43.96</td>\n",
       "    </tr>\n",
       "    <tr>\n",
       "      <th>8</th>\n",
       "      <td>Books</td>\n",
       "      <td>The Da Vinci Code</td>\n",
       "      <td>4</td>\n",
       "      <td>63.96</td>\n",
       "    </tr>\n",
       "    <tr>\n",
       "      <th>9</th>\n",
       "      <td>Books</td>\n",
       "      <td>Where the Crawdads Sing by Delia Owens</td>\n",
       "      <td>4</td>\n",
       "      <td>75.96</td>\n",
       "    </tr>\n",
       "  </tbody>\n",
       "</table>\n",
       "</div>"
      ],
      "text/plain": [
       "  Product Category                                      Product Name  \\\n",
       "0            Books           The Catcher in the Rye by J.D. Salinger   \n",
       "1            Books            The Silent Patient by Alex Michaelides   \n",
       "2            Books  The Girl with the Dragon Tattoo by Stieg Larsson   \n",
       "3            Books                             1984 by George Orwell   \n",
       "4            Books               To Kill a Mockingbird by Harper Lee   \n",
       "5            Books               The Hunger Games by Suzanne Collins   \n",
       "6            Books                      Atomic Habits by James Clear   \n",
       "7            Books            The Girl on the Train by Paula Hawkins   \n",
       "8            Books                                 The Da Vinci Code   \n",
       "9            Books            Where the Crawdads Sing by Delia Owens   \n",
       "\n",
       "   Units Sold  Total Revenue  \n",
       "0           7          88.93  \n",
       "1           5         134.95  \n",
       "2           5          52.95  \n",
       "3           4          79.96  \n",
       "4           4          59.96  \n",
       "5           4          35.96  \n",
       "6           4          67.96  \n",
       "7           4          43.96  \n",
       "8           4          63.96  \n",
       "9           4          75.96  "
      ]
     },
     "execution_count": 181,
     "metadata": {},
     "output_type": "execute_result"
    }
   ],
   "source": [
    "Books = product_category_units[product_category_units['Product Category'] == 'Books']\n",
    "Books_by_units = Books.sort_values('Units Sold', ascending=False)\n",
    "Books_by_units.head(10).reset_index(drop=True)"
   ]
  },
  {
   "cell_type": "code",
   "execution_count": 183,
   "id": "44014b4e-7e51-4ead-aff6-036f5451be3f",
   "metadata": {},
   "outputs": [
    {
     "data": {
      "text/html": [
       "<div>\n",
       "<style scoped>\n",
       "    .dataframe tbody tr th:only-of-type {\n",
       "        vertical-align: middle;\n",
       "    }\n",
       "\n",
       "    .dataframe tbody tr th {\n",
       "        vertical-align: top;\n",
       "    }\n",
       "\n",
       "    .dataframe thead th {\n",
       "        text-align: right;\n",
       "    }\n",
       "</style>\n",
       "<table border=\"1\" class=\"dataframe\">\n",
       "  <thead>\n",
       "    <tr style=\"text-align: right;\">\n",
       "      <th></th>\n",
       "      <th>Product Category</th>\n",
       "      <th>Product Name</th>\n",
       "      <th>Units Sold</th>\n",
       "      <th>Total Revenue</th>\n",
       "    </tr>\n",
       "  </thead>\n",
       "  <tbody>\n",
       "    <tr>\n",
       "      <th>0</th>\n",
       "      <td>Sports</td>\n",
       "      <td>Yeti Rambler Tumbler</td>\n",
       "      <td>6</td>\n",
       "      <td>239.94</td>\n",
       "    </tr>\n",
       "    <tr>\n",
       "      <th>1</th>\n",
       "      <td>Sports</td>\n",
       "      <td>Spalding NBA Street Basketball</td>\n",
       "      <td>6</td>\n",
       "      <td>149.94</td>\n",
       "    </tr>\n",
       "    <tr>\n",
       "      <th>2</th>\n",
       "      <td>Sports</td>\n",
       "      <td>Wilson Evolution Basketball</td>\n",
       "      <td>5</td>\n",
       "      <td>149.95</td>\n",
       "    </tr>\n",
       "    <tr>\n",
       "      <th>3</th>\n",
       "      <td>Sports</td>\n",
       "      <td>Titleist Pro V1 Golf Balls</td>\n",
       "      <td>5</td>\n",
       "      <td>249.95</td>\n",
       "    </tr>\n",
       "    <tr>\n",
       "      <th>4</th>\n",
       "      <td>Sports</td>\n",
       "      <td>Manduka PRO Yoga Mat</td>\n",
       "      <td>4</td>\n",
       "      <td>479.96</td>\n",
       "    </tr>\n",
       "    <tr>\n",
       "      <th>5</th>\n",
       "      <td>Sports</td>\n",
       "      <td>Hydro Flask Wide Mouth Water Bottle</td>\n",
       "      <td>4</td>\n",
       "      <td>159.80</td>\n",
       "    </tr>\n",
       "    <tr>\n",
       "      <th>6</th>\n",
       "      <td>Sports</td>\n",
       "      <td>Adidas FIFA World Cup Football</td>\n",
       "      <td>3</td>\n",
       "      <td>89.97</td>\n",
       "    </tr>\n",
       "    <tr>\n",
       "      <th>7</th>\n",
       "      <td>Sports</td>\n",
       "      <td>Hydro Flask Standard Mouth Water Bottle</td>\n",
       "      <td>3</td>\n",
       "      <td>98.85</td>\n",
       "    </tr>\n",
       "    <tr>\n",
       "      <th>8</th>\n",
       "      <td>Sports</td>\n",
       "      <td>Yeti Rambler Bottle</td>\n",
       "      <td>3</td>\n",
       "      <td>149.97</td>\n",
       "    </tr>\n",
       "    <tr>\n",
       "      <th>9</th>\n",
       "      <td>Sports</td>\n",
       "      <td>Rogue Fitness Kettlebell</td>\n",
       "      <td>3</td>\n",
       "      <td>209.97</td>\n",
       "    </tr>\n",
       "  </tbody>\n",
       "</table>\n",
       "</div>"
      ],
      "text/plain": [
       "  Product Category                             Product Name  Units Sold  \\\n",
       "0           Sports                     Yeti Rambler Tumbler           6   \n",
       "1           Sports           Spalding NBA Street Basketball           6   \n",
       "2           Sports              Wilson Evolution Basketball           5   \n",
       "3           Sports               Titleist Pro V1 Golf Balls           5   \n",
       "4           Sports                     Manduka PRO Yoga Mat           4   \n",
       "5           Sports      Hydro Flask Wide Mouth Water Bottle           4   \n",
       "6           Sports           Adidas FIFA World Cup Football           3   \n",
       "7           Sports  Hydro Flask Standard Mouth Water Bottle           3   \n",
       "8           Sports                      Yeti Rambler Bottle           3   \n",
       "9           Sports                 Rogue Fitness Kettlebell           3   \n",
       "\n",
       "   Total Revenue  \n",
       "0         239.94  \n",
       "1         149.94  \n",
       "2         149.95  \n",
       "3         249.95  \n",
       "4         479.96  \n",
       "5         159.80  \n",
       "6          89.97  \n",
       "7          98.85  \n",
       "8         149.97  \n",
       "9         209.97  "
      ]
     },
     "execution_count": 183,
     "metadata": {},
     "output_type": "execute_result"
    }
   ],
   "source": [
    "Sports = product_category_units[product_category_units['Product Category'] == 'Sports']\n",
    "Sports_by_units = Sports.sort_values('Units Sold', ascending=False)\n",
    "Sports_by_units.head(10).reset_index(drop=True)"
   ]
  },
  {
   "cell_type": "code",
   "execution_count": 184,
   "id": "8fbd96ef-75e2-4aa3-8358-d305e10fe8d0",
   "metadata": {},
   "outputs": [
    {
     "data": {
      "text/html": [
       "<div>\n",
       "<style scoped>\n",
       "    .dataframe tbody tr th:only-of-type {\n",
       "        vertical-align: middle;\n",
       "    }\n",
       "\n",
       "    .dataframe tbody tr th {\n",
       "        vertical-align: top;\n",
       "    }\n",
       "\n",
       "    .dataframe thead th {\n",
       "        text-align: right;\n",
       "    }\n",
       "</style>\n",
       "<table border=\"1\" class=\"dataframe\">\n",
       "  <thead>\n",
       "    <tr style=\"text-align: right;\">\n",
       "      <th></th>\n",
       "      <th>Product Category</th>\n",
       "      <th>Product Name</th>\n",
       "      <th>Units Sold</th>\n",
       "      <th>Total Revenue</th>\n",
       "    </tr>\n",
       "  </thead>\n",
       "  <tbody>\n",
       "    <tr>\n",
       "      <th>0</th>\n",
       "      <td>Sports</td>\n",
       "      <td>Peloton Bike</td>\n",
       "      <td>1</td>\n",
       "      <td>1895.00</td>\n",
       "    </tr>\n",
       "    <tr>\n",
       "      <th>1</th>\n",
       "      <td>Sports</td>\n",
       "      <td>Garmin Fenix 6X Pro</td>\n",
       "      <td>1</td>\n",
       "      <td>999.99</td>\n",
       "    </tr>\n",
       "    <tr>\n",
       "      <th>2</th>\n",
       "      <td>Sports</td>\n",
       "      <td>Bowflex SelectTech 1090 Adjustable Dumbbells</td>\n",
       "      <td>1</td>\n",
       "      <td>699.99</td>\n",
       "    </tr>\n",
       "    <tr>\n",
       "      <th>3</th>\n",
       "      <td>Sports</td>\n",
       "      <td>Fitbit Versa 3</td>\n",
       "      <td>3</td>\n",
       "      <td>689.85</td>\n",
       "    </tr>\n",
       "    <tr>\n",
       "      <th>4</th>\n",
       "      <td>Sports</td>\n",
       "      <td>Garmin Forerunner 945</td>\n",
       "      <td>1</td>\n",
       "      <td>599.99</td>\n",
       "    </tr>\n",
       "    <tr>\n",
       "      <th>5</th>\n",
       "      <td>Sports</td>\n",
       "      <td>Garmin Edge 530</td>\n",
       "      <td>2</td>\n",
       "      <td>599.98</td>\n",
       "    </tr>\n",
       "    <tr>\n",
       "      <th>6</th>\n",
       "      <td>Sports</td>\n",
       "      <td>Babolat Pure Drive Tennis Racket</td>\n",
       "      <td>3</td>\n",
       "      <td>599.97</td>\n",
       "    </tr>\n",
       "    <tr>\n",
       "      <th>7</th>\n",
       "      <td>Sports</td>\n",
       "      <td>Polar Vantage V2</td>\n",
       "      <td>1</td>\n",
       "      <td>499.95</td>\n",
       "    </tr>\n",
       "    <tr>\n",
       "      <th>8</th>\n",
       "      <td>Sports</td>\n",
       "      <td>Manduka PRO Yoga Mat</td>\n",
       "      <td>4</td>\n",
       "      <td>479.96</td>\n",
       "    </tr>\n",
       "    <tr>\n",
       "      <th>9</th>\n",
       "      <td>Sports</td>\n",
       "      <td>GoPro HERO9 Black</td>\n",
       "      <td>1</td>\n",
       "      <td>449.99</td>\n",
       "    </tr>\n",
       "  </tbody>\n",
       "</table>\n",
       "</div>"
      ],
      "text/plain": [
       "  Product Category                                  Product Name  Units Sold  \\\n",
       "0           Sports                                  Peloton Bike           1   \n",
       "1           Sports                           Garmin Fenix 6X Pro           1   \n",
       "2           Sports  Bowflex SelectTech 1090 Adjustable Dumbbells           1   \n",
       "3           Sports                                Fitbit Versa 3           3   \n",
       "4           Sports                         Garmin Forerunner 945           1   \n",
       "5           Sports                               Garmin Edge 530           2   \n",
       "6           Sports              Babolat Pure Drive Tennis Racket           3   \n",
       "7           Sports                              Polar Vantage V2           1   \n",
       "8           Sports                          Manduka PRO Yoga Mat           4   \n",
       "9           Sports                             GoPro HERO9 Black           1   \n",
       "\n",
       "   Total Revenue  \n",
       "0        1895.00  \n",
       "1         999.99  \n",
       "2         699.99  \n",
       "3         689.85  \n",
       "4         599.99  \n",
       "5         599.98  \n",
       "6         599.97  \n",
       "7         499.95  \n",
       "8         479.96  \n",
       "9         449.99  "
      ]
     },
     "execution_count": 184,
     "metadata": {},
     "output_type": "execute_result"
    }
   ],
   "source": [
    "Sports = product_category_units[product_category_units['Product Category'] == 'Sports']\n",
    "Sports_by_revenue = Sports.sort_values('Total Revenue', ascending=False)\n",
    "Sports_by_revenue.head(10).reset_index(drop=True)"
   ]
  },
  {
   "cell_type": "code",
   "execution_count": null,
   "id": "20530f70-2690-42aa-ba66-3a2669aacc93",
   "metadata": {},
   "outputs": [],
   "source": []
  }
 ],
 "metadata": {
  "kernelspec": {
   "display_name": "Python 3 (ipykernel)",
   "language": "python",
   "name": "python3"
  },
  "language_info": {
   "codemirror_mode": {
    "name": "ipython",
    "version": 3
   },
   "file_extension": ".py",
   "mimetype": "text/x-python",
   "name": "python",
   "nbconvert_exporter": "python",
   "pygments_lexer": "ipython3",
   "version": "3.12.3"
  }
 },
 "nbformat": 4,
 "nbformat_minor": 5
}
